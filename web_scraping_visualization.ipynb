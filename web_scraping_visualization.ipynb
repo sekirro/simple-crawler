{
 "cells": [
  {
   "cell_type": "markdown",
   "metadata": {},
   "source": [
    "# 网络爬虫与数据可视化大作业\n",
    "\n",
    "本notebook演示如何使用Python进行网络爬虫，分别爬取当当网图书数据和豆瓣电影数据，并进行可视化分析，包括箱线图和小提琴图的绘制。\n",
    "\n",
    "## 目录\n",
    "1. [环境准备与库导入](#1-环境准备与库导入)\n",
    "2. [网络爬虫实现](#2-网络爬虫实现)\n",
    "   - 2.1 [当当网图书爬虫](#21-当当网图书爬虫)\n",
    "   - 2.2 [豆瓣电影爬虫](#22-豆瓣电影爬虫)\n",
    "3. [数据清洗与处理](#3-数据清洗与处理)\n",
    "4. [数据可视化](#4-数据可视化)\n",
    "5. [总结](#5-总结)"
   ]
  },
  {
   "cell_type": "markdown",
   "metadata": {},
   "source": [
    "## 1. 环境准备与库导入"
   ]
  },
  {
   "cell_type": "code",
   "metadata": {
    "ExecuteTime": {
     "end_time": "2025-05-31T02:47:47.565217Z",
     "start_time": "2025-05-31T02:47:47.170051Z"
    }
   },
   "source": [
    "# 基础库\n",
    "import requests\n",
    "from bs4 import BeautifulSoup\n",
    "import pandas as pd\n",
    "import numpy as np\n",
    "import time\n",
    "import random\n",
    "import json\n",
    "import re\n",
    "\n",
    "# 数据可视化库\n",
    "import matplotlib.pyplot as plt\n",
    "import seaborn as sns\n",
    "import plotly.express as px\n",
    "import plotly.graph_objects as go\n",
    "from plotly.subplots import make_subplots\n",
    "\n",
    "# 中文字体设置\n",
    "plt.rcParams['font.sans-serif'] = ['SimHei', 'Microsoft YaHei']  # 用来正常显示中文标签\n",
    "plt.rcParams['axes.unicode_minus'] = False  # 用来正常显示负号\n",
    "\n",
    "# 设置随机种子\n",
    "np.random.seed(42)\n",
    "random.seed(42)\n",
    "\n",
    "print(\"所有库导入成功！\")"
   ],
   "outputs": [
    {
     "name": "stdout",
     "output_type": "stream",
     "text": [
      "所有库导入成功！\n"
     ]
    }
   ],
   "execution_count": 1
  },
  {
   "cell_type": "markdown",
   "metadata": {},
   "source": [
    "## 2. 网络爬虫实现\n",
    "\n",
    "### 2.1 当当网图书爬虫"
   ]
  },
  {
   "cell_type": "code",
   "execution_count": 40,
   "metadata": {},
   "outputs": [
    {
     "name": "stdout",
     "output_type": "stream",
     "text": [
      "开始爬取当当网图书数据，共20页...\n",
      "正在爬取第1页数据...\n",
      "第1页获取到20本书\n",
      "正在爬取第2页数据...\n",
      "第2页获取到20本书\n",
      "正在爬取第3页数据...\n",
      "第3页获取到20本书\n",
      "正在爬取第4页数据...\n",
      "第4页获取到20本书\n",
      "正在爬取第5页数据...\n",
      "第5页获取到20本书\n",
      "正在爬取第6页数据...\n",
      "第6页获取到20本书\n",
      "正在爬取第7页数据...\n",
      "第7页获取到20本书\n",
      "正在爬取第8页数据...\n",
      "第8页获取到20本书\n",
      "正在爬取第9页数据...\n",
      "第9页获取到20本书\n",
      "正在爬取第10页数据...\n",
      "第10页获取到20本书\n",
      "正在爬取第11页数据...\n",
      "第11页获取到20本书\n",
      "正在爬取第12页数据...\n",
      "第12页获取到20本书\n",
      "正在爬取第13页数据...\n",
      "第13页获取到20本书\n",
      "正在爬取第14页数据...\n",
      "第14页获取到20本书\n",
      "正在爬取第15页数据...\n",
      "第15页获取到20本书\n",
      "正在爬取第16页数据...\n",
      "第16页获取到20本书\n",
      "正在爬取第17页数据...\n",
      "第17页获取到20本书\n",
      "正在爬取第18页数据...\n",
      "第18页获取到20本书\n",
      "正在爬取第19页数据...\n",
      "第19页获取到20本书\n",
      "正在爬取第20页数据...\n",
      "第20页获取到0本书\n",
      "图书数据爬取完成！总共获取到380本书\n",
      "\n",
      "图书数据预览:\n",
      "   排名                                                 图片  \\\n",
      "0   1  http://img3m0.ddimg.cn/82/18/29878480-1_l_1745...   \n",
      "1   2  http://img3m2.ddimg.cn/81/29/29819772-1_l_1738...   \n",
      "2   3  http://img3m1.ddimg.cn/81/6/29849571-1_l_17422...   \n",
      "3   4  http://img3m8.ddimg.cn/29/32/29876348-1_l_1747...   \n",
      "4   5  http://img3m5.ddimg.cn/34/7/29845465-1_l_17391...   \n",
      "\n",
      "                                         书名     推荐度     作者   出版时间     价格  \n",
      "0                          数字仿真：三一集团产品创新加速器  100%推荐    郄永军  5134次  69.00  \n",
      "1                   一本关于你的书 我写了一本关于你的书 全彩精装  100%推荐     笑羽  5366次  42.80  \n",
      "2          你可以有情绪，但别往心里去【破解情绪内耗的疗愈指南】赠情绪记录卡  100%推荐    班曼曼  2984次  36.12  \n",
      "3  口头禅决定人生【当当定制表情包贴纸】日本“奇迹心理咨询师”中岛辉30年心血之作！  100%推荐    中岛辉   991次  36.10  \n",
      "4               人类迁徙（BBC驻外记者先锋之作，另类视角的人类简史）  100%推荐  山姆・米勒  1983次  29.00  \n",
      "\n",
      "图书数据形状: (380, 7)\n"
     ]
    }
   ],
   "source": [
    "class DangdangBookScraper:\n",
    "    def __init__(self):\n",
    "        self.books = []\n",
    "        \n",
    "    def request_dandan(self, url):\n",
    "        \"\"\"发送请求获取页面内容\"\"\"\n",
    "        try:\n",
    "            response = requests.get(url)\n",
    "            if response.status_code == 200:\n",
    "                return response.text\n",
    "        except requests.RequestException as e:\n",
    "            print(f\"请求出错: {e}\")\n",
    "            return None\n",
    "\n",
    "    def parse_result(self, html):\n",
    "        \"\"\"解析页面内容\"\"\"\n",
    "        if not html:\n",
    "            return []\n",
    "            \n",
    "        pattern = re.compile(\n",
    "            r'<li.*?list_num.*?(\\d+)\\.</div>.*?<img src=\"(.*?)\".*?class=\"name\".*?title=\"(.*?)\">.*?class=\"star\">.*?class=\"tuijian\">(.*?)</span>.*?class=\"publisher_info\">.*?target=\"_blank\">(.*?)</a>.*?class=\"biaosheng\">.*?<span>(.*?)</span></div>.*?<p><span class=\"price_n\">(.*?)</span>.*?</li>', re.S)\n",
    "        items = re.findall(pattern, html)\n",
    "\n",
    "        books = []\n",
    "        for item in items:\n",
    "            # 处理价格：去除 &yen; 符号和其他可能的符号\n",
    "            price_str = item[6] if item[6] else \"0\"\n",
    "            price_str = price_str.replace('&yen;', '').replace('¥', '').replace('￥', '').strip()\n",
    "            try:\n",
    "                price = float(price_str) if price_str else 0\n",
    "            except ValueError:\n",
    "                price = 0\n",
    "                \n",
    "            book_data = {\n",
    "                '排名': int(item[0]),\n",
    "                '图片': item[1],\n",
    "                '书名': item[2],\n",
    "                '推荐度': item[3],\n",
    "                '作者': item[4],\n",
    "                '出版时间': item[5],\n",
    "                '价格': price\n",
    "            }\n",
    "            books.append(book_data)\n",
    "        return books\n",
    "\n",
    "    def scrape_books(self, max_pages=5):\n",
    "        \"\"\"爬取图书数据\"\"\"\n",
    "        print(f\"开始爬取当当网图书数据，共{max_pages}页...\")\n",
    "        \n",
    "        for i in range(1, max_pages + 1):\n",
    "            url = f'http://bang.dangdang.com/books/fivestars/01.00.00.00.00.00-recent30-0-0-1-{i}'\n",
    "            print(f'正在爬取第{i}页数据...')\n",
    "            \n",
    "            html = self.request_dandan(url)\n",
    "            if html:\n",
    "                books = self.parse_result(html)\n",
    "                self.books.extend(books)\n",
    "                print(f'第{i}页获取到{len(books)}本书')\n",
    "            else:\n",
    "                print(f'第{i}页爬取失败')\n",
    "            \n",
    "            # 延时避免被反爬\n",
    "            time.sleep(random.uniform(1, 2))\n",
    "        \n",
    "        print(f'图书数据爬取完成！总共获取到{len(self.books)}本书')\n",
    "        return self.books\n",
    "\n",
    "# 创建爬虫实例并执行\n",
    "book_scraper = DangdangBookScraper()\n",
    "books_data = book_scraper.scrape_books(max_pages=20)  # 爬取20页数据进行演示\n",
    "\n",
    "# 转换为DataFrame\n",
    "books_df = pd.DataFrame(books_data)\n",
    "print(f\"\\n图书数据预览:\")\n",
    "print(books_df.head())\n",
    "print(f\"\\n图书数据形状: {books_df.shape}\")"
   ]
  },
  {
   "cell_type": "markdown",
   "metadata": {},
   "source": [
    "### 2.2 豆瓣电影爬虫"
   ]
  },
  {
   "cell_type": "code",
   "execution_count": 41,
   "metadata": {},
   "outputs": [
    {
     "name": "stdout",
     "output_type": "stream",
     "text": [
      "开始爬取豆瓣电影Top250数据，共3页...\n",
      "正在爬取第1页数据...\n",
      "爬取电影：1 | 肖申克的救赎 | 9.7 | NOT AVAILABLE\n",
      "爬取电影：2 | 霸王别姬 | 9.6 | NOT AVAILABLE\n",
      "爬取电影：3 | 泰坦尼克号 | 9.5 | NOT AVAILABLE\n",
      "爬取电影：4 | 阿甘正传 | 9.5 | NOT AVAILABLE\n",
      "爬取电影：5 | 千与千寻 | 9.4 | NOT AVAILABLE\n",
      "爬取电影：6 | 美丽人生 | 9.5 | NOT AVAILABLE\n",
      "爬取电影：7 | 这个杀手不太冷 | 9.4 | NOT AVAILABLE\n",
      "爬取电影：8 | 星际穿越 | 9.4 | NOT AVAILABLE\n",
      "爬取电影：9 | 盗梦空间 | 9.4 | NOT AVAILABLE\n",
      "爬取电影：10 | 楚门的世界 | 9.4 | NOT AVAILABLE\n",
      "爬取电影：11 | 辛德勒的名单 | 9.5 | NOT AVAILABLE\n",
      "爬取电影：12 | 忠犬八公的故事 | 9.4 | NOT AVAILABLE\n",
      "爬取电影：13 | 海上钢琴师 | 9.3 | NOT AVAILABLE\n",
      "爬取电影：14 | 三傻大闹宝莱坞 | 9.2 | NOT AVAILABLE\n",
      "爬取电影：15 | 疯狂动物城 | 9.2 | NOT AVAILABLE\n",
      "爬取电影：16 | 放牛班的春天 | 9.3 | NOT AVAILABLE\n",
      "爬取电影：17 | 机器人总动员 | 9.3 | NOT AVAILABLE\n",
      "爬取电影：18 | 无间道 | 9.3 | NOT AVAILABLE\n",
      "爬取电影：19 | 控方证人 | 9.6 | NOT AVAILABLE\n",
      "爬取电影：20 | 大话西游之大圣娶亲 | 9.2 | NOT AVAILABLE\n",
      "爬取电影：21 | 熔炉 | 9.3 | NOT AVAILABLE\n",
      "爬取电影：22 | 触不可及 | 9.3 | NOT AVAILABLE\n",
      "爬取电影：23 | 教父 | 9.3 | NOT AVAILABLE\n",
      "爬取电影：24 | 寻梦环游记 | 9.1 | NOT AVAILABLE\n",
      "爬取电影：25 | 当幸福来敲门 | 9.1 | NOT AVAILABLE\n",
      "第1页获取到25部电影\n",
      "正在爬取第2页数据...\n",
      "爬取电影：26 | 末代皇帝 | 9.3 | NOT AVAILABLE\n",
      "爬取电影：27 | 哈利·波特与魔法石 | 9.2 | NOT AVAILABLE\n",
      "爬取电影：28 | 龙猫 | 9.2 | NOT AVAILABLE\n",
      "爬取电影：29 | 怦然心动 | 9.1 | NOT AVAILABLE\n",
      "爬取电影：30 | 活着 | 9.3 | NOT AVAILABLE\n",
      "爬取电影：31 | 蝙蝠侠：黑暗骑士 | 9.2 | NOT AVAILABLE\n",
      "爬取电影：32 | 指环王3：王者无敌 | 9.3 | NOT AVAILABLE\n",
      "爬取电影：33 | 我不是药神 | 9.0 | NOT AVAILABLE\n",
      "爬取电影：34 | 乱世佳人 | 9.3 | NOT AVAILABLE\n",
      "爬取电影：35 | 飞屋环游记 | 9.1 | NOT AVAILABLE\n",
      "爬取电影：36 | 让子弹飞 | 9.0 | NOT AVAILABLE\n",
      "爬取电影：37 | 哈尔的移动城堡 | 9.1 | NOT AVAILABLE\n",
      "爬取电影：38 | 素媛 | 9.3 | NOT AVAILABLE\n",
      "爬取电影：39 | 十二怒汉 | 9.4 | NOT AVAILABLE\n",
      "爬取电影：40 | 海蒂和爷爷 | 9.3 | NOT AVAILABLE\n",
      "爬取电影：41 | 猫鼠游戏 | 9.1 | NOT AVAILABLE\n",
      "爬取电影：42 | 天空之城 | 9.2 | NOT AVAILABLE\n",
      "爬取电影：43 | 摔跤吧！爸爸 | 9.0 | NOT AVAILABLE\n",
      "爬取电影：44 | 鬼子来了 | 9.3 | NOT AVAILABLE\n",
      "爬取电影：45 | 少年派的奇幻漂流 | 9.1 | NOT AVAILABLE\n",
      "爬取电影：46 | 钢琴家 | 9.3 | NOT AVAILABLE\n",
      "爬取电影：47 | 指环王2：双塔奇兵 | 9.2 | NOT AVAILABLE\n",
      "爬取电影：48 | 大话西游之月光宝盒 | 9.0 | NOT AVAILABLE\n",
      "爬取电影：49 | 死亡诗社 | 9.2 | NOT AVAILABLE\n",
      "爬取电影：50 | 何以为家 | 9.1 | NOT AVAILABLE\n",
      "第2页获取到25部电影\n",
      "正在爬取第3页数据...\n",
      "爬取电影：51 | 闻香识女人 | 9.1 | NOT AVAILABLE\n",
      "爬取电影：52 | 绿皮书 | 8.9 | NOT AVAILABLE\n",
      "爬取电影：53 | 大闹天宫 | 9.4 | NOT AVAILABLE\n",
      "爬取电影：54 | 黑客帝国 | 9.1 | NOT AVAILABLE\n",
      "爬取电影：55 | 指环王1：护戒使者 | 9.1 | NOT AVAILABLE\n",
      "爬取电影：56 | 罗马假日 | 9.1 | NOT AVAILABLE\n",
      "爬取电影：57 | 教父2 | 9.3 | NOT AVAILABLE\n",
      "爬取电影：58 | 狮子王 | 9.1 | NOT AVAILABLE\n",
      "爬取电影：59 | 天堂电影院 | 9.2 | NOT AVAILABLE\n",
      "爬取电影：60 | 饮食男女 | 9.2 | NOT AVAILABLE\n",
      "爬取电影：61 | 辩护人 | 9.2 | NOT AVAILABLE\n",
      "爬取电影：62 | 搏击俱乐部 | 9.0 | NOT AVAILABLE\n",
      "爬取电影：63 | 本杰明·巴顿奇事 | 9.0 | NOT AVAILABLE\n",
      "爬取电影：64 | 美丽心灵 | 9.1 | NOT AVAILABLE\n",
      "爬取电影：65 | 穿条纹睡衣的男孩 | 9.2 | NOT AVAILABLE\n",
      "爬取电影：66 | 情书 | 8.9 | NOT AVAILABLE\n",
      "爬取电影：67 | 窃听风暴 | 9.2 | NOT AVAILABLE\n",
      "爬取电影：68 | 两杆大烟枪 | 9.1 | NOT AVAILABLE\n",
      "爬取电影：69 | 哈利·波特与死亡圣器(下) | 9.0 | NOT AVAILABLE\n",
      "爬取电影：70 | 音乐之声 | 9.1 | NOT AVAILABLE\n",
      "爬取电影：71 | 西西里的美丽传说 | 8.9 | NOT AVAILABLE\n",
      "爬取电影：72 | 功夫 | 8.9 | NOT AVAILABLE\n",
      "爬取电影：73 | 阿凡达 | 8.8 | NOT AVAILABLE\n",
      "爬取电影：74 | 哈利·波特与阿兹卡班的囚徒 | 9.0 | NOT AVAILABLE\n",
      "爬取电影：75 | 看不见的客人 | 8.8 | NOT AVAILABLE\n",
      "第3页获取到25部电影\n",
      "电影数据爬取完成！总共获取到75部电影\n",
      "\n",
      "电影数据预览:\n",
      "       名称                                                 图片  排名   评分  \\\n",
      "0  肖申克的救赎  https://img3.doubanio.com/view/photo/s_ratio_p...   1  9.7   \n",
      "1    霸王别姬  https://img1.doubanio.com/view/photo/s_ratio_p...   2  9.6   \n",
      "2   泰坦尼克号  https://img9.doubanio.com/view/photo/s_ratio_p...   3  9.5   \n",
      "3    阿甘正传  https://img3.doubanio.com/view/photo/s_ratio_p...   4  9.5   \n",
      "4    千与千寻  https://img1.doubanio.com/view/photo/s_ratio_p...   5  9.4   \n",
      "\n",
      "                                                作者信息             简介  \n",
      "0  导演: 弗兰克·德拉邦特 Frank Darabont   主演: 蒂姆·罗宾斯 Tim R...  NOT AVAILABLE  \n",
      "1  导演: 陈凯歌 Kaige Chen   主演: 张国荣 Leslie Cheung / 张...  NOT AVAILABLE  \n",
      "2  导演: 詹姆斯·卡梅隆 James Cameron   主演: 莱昂纳多·迪卡普里奥 Leo...  NOT AVAILABLE  \n",
      "3  导演: 罗伯特·泽米吉斯 Robert Zemeckis   主演: 汤姆·汉克斯 Tom ...  NOT AVAILABLE  \n",
      "4  导演: 宫崎骏 Hayao Miyazaki   主演: 柊瑠美 Rumi Hîragi /...  NOT AVAILABLE  \n",
      "\n",
      "电影数据形状: (75, 6)\n"
     ]
    }
   ],
   "source": [
    "class DoubanMovieScraper:\n",
    "    def __init__(self):\n",
    "        self.movies = []\n",
    "    \n",
    "    def request_douban(self, url):\n",
    "        \"\"\"发送请求获取页面内容\"\"\"\n",
    "        headers = {\n",
    "            'User-Agent': 'Mozilla/5.0 (Windows NT 10.0; Win64; x64) AppleWebKit/537.36 (KHTML, like Gecko) '\n",
    "                          'Chrome/88.0.4324.146 Safari/537.36',\n",
    "        }\n",
    "\n",
    "        try:\n",
    "            response = requests.get(url=url, headers=headers)\n",
    "            if response.status_code == 200:\n",
    "                return response.text\n",
    "        except requests.RequestException as e:\n",
    "            print(f\"请求出错: {e}\")\n",
    "            return None\n",
    "\n",
    "    def parse_movies(self, soup):\n",
    "        \"\"\"解析电影信息\"\"\"\n",
    "        movies = []\n",
    "        movie_list = soup.find(class_='grid_view')\n",
    "        if not movie_list:\n",
    "            return movies\n",
    "            \n",
    "        movie_list = movie_list.find_all('li')\n",
    "\n",
    "        for item in movie_list:\n",
    "            try:\n",
    "                # 电影名称\n",
    "                item_name = item.find(class_='title').string\n",
    "                \n",
    "                # 图片\n",
    "                item_img = item.find('a').find('img').get('src')\n",
    "                \n",
    "                # 排名\n",
    "                item_index = item.find(class_='').string\n",
    "                \n",
    "                # 评分\n",
    "                item_score = float(item.find(class_='rating_num').string)\n",
    "                \n",
    "                # 导演和演员信息\n",
    "                item_author = item.find('p').text.strip()\n",
    "                \n",
    "                # 简介\n",
    "                inq_element = item.find(class_='inq')\n",
    "                item_intr = inq_element.string if inq_element else 'NOT AVAILABLE'\n",
    "\n",
    "                print('爬取电影：' + item_index + ' | ' + item_name + ' | ' + str(item_score) + ' | ' + item_intr)\n",
    "\n",
    "                movie_data = {\n",
    "                    '名称': item_name,\n",
    "                    '图片': item_img,\n",
    "                    '排名': int(item_index),\n",
    "                    '评分': item_score,\n",
    "                    '作者信息': item_author,\n",
    "                    '简介': item_intr\n",
    "                }\n",
    "                \n",
    "                movies.append(movie_data)\n",
    "            except Exception as e:\n",
    "                print(f\"解析电影信息出错: {e}\")\n",
    "                continue\n",
    "        \n",
    "        return movies\n",
    "\n",
    "    def scrape_movies(self, max_pages=5):\n",
    "        \"\"\"爬取电影数据\"\"\"\n",
    "        print(f\"开始爬取豆瓣电影Top250数据，共{max_pages}页...\")\n",
    "        \n",
    "        for i in range(max_pages):\n",
    "            url = 'https://movie.douban.com/top250?start=' + str(i * 25) + '&filter='\n",
    "            print(f'正在爬取第{i+1}页数据...')\n",
    "            \n",
    "            html = self.request_douban(url)\n",
    "            if html:\n",
    "                soup = BeautifulSoup(html, 'lxml')\n",
    "                movies = self.parse_movies(soup)\n",
    "                self.movies.extend(movies)\n",
    "                print(f'第{i+1}页获取到{len(movies)}部电影')\n",
    "            else:\n",
    "                print(f'第{i+1}页爬取失败')\n",
    "            \n",
    "            # 延时避免被反爬\n",
    "            time.sleep(random.uniform(2, 4))\n",
    "        \n",
    "        print(f'电影数据爬取完成！总共获取到{len(self.movies)}部电影')\n",
    "        return self.movies\n",
    "\n",
    "# 创建爬虫实例并执行\n",
    "movie_scraper = DoubanMovieScraper()\n",
    "movies_data = movie_scraper.scrape_movies(max_pages=3)  # 爬取3页数据进行演示\n",
    "\n",
    "# 转换为DataFrame\n",
    "movies_df = pd.DataFrame(movies_data)\n",
    "print(f\"\\n电影数据预览:\")\n",
    "print(movies_df.head())\n",
    "print(f\"\\n电影数据形状: {movies_df.shape}\")"
   ]
  },
  {
   "cell_type": "markdown",
   "metadata": {},
   "source": [
    "## 3. 数据清洗与处理"
   ]
  },
  {
   "cell_type": "code",
   "execution_count": 42,
   "metadata": {},
   "outputs": [
    {
     "name": "stdout",
     "output_type": "stream",
     "text": [
      "=== 图书数据处理 ===\n",
      "图书数据形状: (380, 7)\n",
      "\n",
      "图书数据类型:\n",
      "排名        int64\n",
      "图片       object\n",
      "书名       object\n",
      "推荐度      object\n",
      "作者       object\n",
      "出版时间     object\n",
      "价格      float64\n",
      "dtype: object\n",
      "\n",
      "缺失值统计:\n",
      "排名      0\n",
      "图片      0\n",
      "书名      0\n",
      "推荐度     0\n",
      "作者      0\n",
      "出版时间    0\n",
      "价格      0\n",
      "dtype: int64\n",
      "\n",
      "图书数据描述性统计:\n",
      "               排名          价格\n",
      "count  380.000000  380.000000\n",
      "mean   190.500000   41.551158\n",
      "std    109.840794   33.439095\n",
      "min      1.000000    2.200000\n",
      "25%     95.750000   25.042500\n",
      "50%    190.500000   35.850000\n",
      "75%    285.250000   49.800000\n",
      "max    380.000000  398.000000\n",
      "\n",
      "==================================================\n",
      "=== 电影数据处理 ===\n",
      "电影数据形状: (75, 6)\n",
      "\n",
      "电影数据类型:\n",
      "名称       object\n",
      "图片       object\n",
      "排名        int64\n",
      "评分      float64\n",
      "作者信息     object\n",
      "简介       object\n",
      "dtype: object\n",
      "\n",
      "缺失值统计:\n",
      "名称      0\n",
      "图片      0\n",
      "排名      0\n",
      "评分      0\n",
      "作者信息    0\n",
      "简介      0\n",
      "dtype: int64\n",
      "\n",
      "电影数据描述性统计:\n",
      "              排名         评分\n",
      "count  75.000000  75.000000\n",
      "mean   38.000000   9.206667\n",
      "std    21.794495   0.186238\n",
      "min     1.000000   8.800000\n",
      "25%    19.500000   9.100000\n",
      "50%    38.000000   9.200000\n",
      "75%    56.500000   9.300000\n",
      "max    75.000000   9.700000\n"
     ]
    }
   ],
   "source": [
    "# 图书数据处理\n",
    "print(\"=== 图书数据处理 ===\")\n",
    "if not books_df.empty:\n",
    "    print(f\"图书数据形状: {books_df.shape}\")\n",
    "    print(f\"\\n图书数据类型:\")\n",
    "    print(books_df.dtypes)\n",
    "    print(f\"\\n缺失值统计:\")\n",
    "    print(books_df.isnull().sum())\n",
    "    \n",
    "    # 价格分组\n",
    "    if '价格' in books_df.columns and books_df['价格'].dtype in ['float64', 'int64']:\n",
    "        def categorize_price(price):\n",
    "            if price <= 30:\n",
    "                return '低价位(≤30元)'\n",
    "            elif price <= 60:\n",
    "                return '中价位(30-60元)'\n",
    "            else:\n",
    "                return '高价位(>60元)'\n",
    "        \n",
    "        books_df['价格分组'] = books_df['价格'].apply(categorize_price)\n",
    "    \n",
    "    print(\"\\n图书数据描述性统计:\")\n",
    "    print(books_df.describe())\n",
    "else:\n",
    "    print(\"图书数据为空，可能爬取失败\")\n",
    "\n",
    "print(\"\\n\" + \"=\"*50)\n",
    "\n",
    "# 电影数据处理\n",
    "print(\"=== 电影数据处理 ===\")\n",
    "if not movies_df.empty:\n",
    "    print(f\"电影数据形状: {movies_df.shape}\")\n",
    "    print(f\"\\n电影数据类型:\")\n",
    "    print(movies_df.dtypes)\n",
    "    print(f\"\\n缺失值统计:\")\n",
    "    print(movies_df.isnull().sum())\n",
    "    \n",
    "    # 评分分组\n",
    "    if '评分' in movies_df.columns and movies_df['评分'].dtype in ['float64', 'int64']:\n",
    "        def categorize_rating(rating):\n",
    "            if rating >= 9.0:\n",
    "                return '经典(≥9.0)'\n",
    "            elif rating >= 8.5:\n",
    "                return '优秀(8.5-9.0)'\n",
    "            elif rating >= 8.0:\n",
    "                return '良好(8.0-8.5)'\n",
    "            else:\n",
    "                return '一般(<8.0)'\n",
    "        \n",
    "        movies_df['评分等级'] = movies_df['评分'].apply(categorize_rating)\n",
    "    \n",
    "    print(\"\\n电影数据描述性统计:\")\n",
    "    print(movies_df.describe())\n",
    "else:\n",
    "    print(\"电影数据为空，可能爬取失败\")"
   ]
  },
  {
   "cell_type": "markdown",
   "metadata": {},
   "source": [
    "## 4. 数据可视化\n",
    "\n",
    "### 4.1 图书数据可视化"
   ]
  },
  {
   "cell_type": "code",
   "execution_count": 43,
   "metadata": {},
   "outputs": [
    {
     "data": {
      "image/png": "[encoded data removed]",
      "text/plain": [
       "<Figure size 1500x1200 with 4 Axes>"
      ]
     },
     "metadata": {},
     "output_type": "display_data"
    },
    {
     "name": "stdout",
     "output_type": "stream",
     "text": [
      "=== 图书数据统计信息 ===\n",
      "平均价格: 41.55元\n",
      "价格中位数: 35.85元\n",
      "价格标准差: 33.44元\n",
      "\n",
      "价格分组统计:\n",
      "价格分组\n",
      "中价位(30-60元)    185\n",
      "低价位(≤30元)      151\n",
      "高价位(>60元)       44\n",
      "Name: count, dtype: int64\n"
     ]
    }
   ],
   "source": [
    "if not books_df.empty:\n",
    "    # 创建图书数据可视化\n",
    "    fig, axes = plt.subplots(2, 2, figsize=(15, 12))\n",
    "    fig.suptitle('当当网图书数据分析', fontsize=16, fontweight='bold')\n",
    "\n",
    "    # 1. 图书价格分布箱线图\n",
    "    if '价格' in books_df.columns:\n",
    "        sns.boxplot(y=books_df['价格'], ax=axes[0, 0])\n",
    "        axes[0, 0].set_title('图书价格分布（箱线图）')\n",
    "        axes[0, 0].set_ylabel('价格（元）')\n",
    "\n",
    "    # 2. 图书价格分布小提琴图\n",
    "    if '价格' in books_df.columns:\n",
    "        sns.violinplot(y=books_df['价格'], ax=axes[0, 1])\n",
    "        axes[0, 1].set_title('图书价格分布（小提琴图）')\n",
    "        axes[0, 1].set_ylabel('价格（元）')\n",
    "\n",
    "    # 3. 不同价格分组的图书数量\n",
    "    if '价格分组' in books_df.columns:\n",
    "        price_counts = books_df['价格分组'].value_counts()\n",
    "        axes[1, 0].bar(price_counts.index, price_counts.values)\n",
    "        axes[1, 0].set_title('不同价格分组的图书数量')\n",
    "        axes[1, 0].set_ylabel('数量')\n",
    "        axes[1, 0].tick_params(axis='x', rotation=45)\n",
    "\n",
    "    # 4. 图书排名分布\n",
    "    if '排名' in books_df.columns:\n",
    "        axes[1, 1].hist(books_df['排名'], bins=20, alpha=0.7, edgecolor='black')\n",
    "        axes[1, 1].set_title('图书排名分布')\n",
    "        axes[1, 1].set_xlabel('排名')\n",
    "        axes[1, 1].set_ylabel('频次')\n",
    "\n",
    "    plt.tight_layout()\n",
    "    plt.show()\n",
    "    \n",
    "    # 打印图书统计信息\n",
    "    print(\"=== 图书数据统计信息 ===\")\n",
    "    if '价格' in books_df.columns:\n",
    "        print(f\"平均价格: {books_df['价格'].mean():.2f}元\")\n",
    "        print(f\"价格中位数: {books_df['价格'].median():.2f}元\")\n",
    "        print(f\"价格标准差: {books_df['价格'].std():.2f}元\")\n",
    "    \n",
    "    if '价格分组' in books_df.columns:\n",
    "        print(\"\\n价格分组统计:\")\n",
    "        print(books_df['价格分组'].value_counts())\n",
    "else:\n",
    "    print(\"图书数据为空，无法进行可视化\")"
   ]
  },
  {
   "cell_type": "markdown",
   "metadata": {},
   "source": [
    "### 4.2 电影数据可视化"
   ]
  },
  {
   "cell_type": "code",
   "execution_count": 44,
   "metadata": {},
   "outputs": [
    {
     "data": {
      "image/png": "[encoded data removed]",
      "text/plain": [
       "<Figure size 1500x1200 with 4 Axes>"
      ]
     },
     "metadata": {},
     "output_type": "display_data"
    },
    {
     "name": "stdout",
     "output_type": "stream",
     "text": [
      "=== 电影数据统计信息 ===\n",
      "平均评分: 9.21\n",
      "评分中位数: 9.20\n",
      "评分标准差: 0.19\n",
      "\n",
      "评分等级统计:\n",
      "评分等级\n",
      "经典(≥9.0)       69\n",
      "优秀(8.5-9.0)     6\n",
      "Name: count, dtype: int64\n"
     ]
    }
   ],
   "source": [
    "if not movies_df.empty:\n",
    "    # 创建电影数据可视化\n",
    "    fig, axes = plt.subplots(2, 2, figsize=(15, 12))\n",
    "    fig.suptitle('豆瓣电影Top250数据分析', fontsize=16, fontweight='bold')\n",
    "\n",
    "    # 1. 电影评分分布箱线图\n",
    "    if '评分' in movies_df.columns:\n",
    "        sns.boxplot(y=movies_df['评分'], ax=axes[0, 0])\n",
    "        axes[0, 0].set_title('电影评分分布（箱线图）')\n",
    "        axes[0, 0].set_ylabel('评分')\n",
    "\n",
    "    # 2. 电影评分分布小提琴图\n",
    "    if '评分' in movies_df.columns:\n",
    "        sns.violinplot(y=movies_df['评分'], ax=axes[0, 1])\n",
    "        axes[0, 1].set_title('电影评分分布（小提琴图）')\n",
    "        axes[0, 1].set_ylabel('评分')\n",
    "\n",
    "    # 3. 不同评分等级的电影数量\n",
    "    if '评分等级' in movies_df.columns:\n",
    "        rating_counts = movies_df['评分等级'].value_counts()\n",
    "        axes[1, 0].bar(rating_counts.index, rating_counts.values)\n",
    "        axes[1, 0].set_title('不同评分等级的电影数量')\n",
    "        axes[1, 0].set_ylabel('数量')\n",
    "        axes[1, 0].tick_params(axis='x', rotation=45)\n",
    "\n",
    "    # 4. 电影排名分布\n",
    "    if '排名' in movies_df.columns:\n",
    "        axes[1, 1].hist(movies_df['排名'], bins=20, alpha=0.7, edgecolor='black')\n",
    "        axes[1, 1].set_title('电影排名分布')\n",
    "        axes[1, 1].set_xlabel('排名')\n",
    "        axes[1, 1].set_ylabel('频次')\n",
    "\n",
    "    plt.tight_layout()\n",
    "    plt.show()\n",
    "    \n",
    "    # 打印电影统计信息\n",
    "    print(\"=== 电影数据统计信息 ===\")\n",
    "    if '评分' in movies_df.columns:\n",
    "        print(f\"平均评分: {movies_df['评分'].mean():.2f}\")\n",
    "        print(f\"评分中位数: {movies_df['评分'].median():.2f}\")\n",
    "        print(f\"评分标准差: {movies_df['评分'].std():.2f}\")\n",
    "    \n",
    "    if '评分等级' in movies_df.columns:\n",
    "        print(\"\\n评分等级统计:\")\n",
    "        print(movies_df['评分等级'].value_counts())\n",
    "else:\n",
    "    print(\"电影数据为空，无法进行可视化\")"
   ]
  },
  {
   "cell_type": "markdown",
   "metadata": {},
   "source": [
    "### 4.3 箱线图与小提琴图对比分析"
   ]
  },
  {
   "cell_type": "code",
   "execution_count": 45,
   "metadata": {},
   "outputs": [
    {
     "data": {
      "image/png": "[encoded data removed]",
      "text/plain": [
       "<Figure size 1600x1200 with 4 Axes>"
      ]
     },
     "metadata": {},
     "output_type": "display_data"
    },
    {
     "name": "stdout",
     "output_type": "stream",
     "text": [
      "=== 箱线图和小提琴图分析说明 ===\n",
      "\n",
      "箱线图特点:\n",
      "- 清晰显示四分位数（Q1, Q2, Q3）\n",
      "- 明确标识异常值（outliers）\n",
      "- 适合快速了解数据的集中趋势和离散程度\n",
      "- 占用空间小，适合多组数据对比\n",
      "\n",
      "小提琴图特点:\n",
      "- 显示数据的概率密度分布\n",
      "- 能看出数据分布的形状（单峰、双峰等）\n",
      "- 提供比箱线图更丰富的分布信息\n",
      "- 适合分析数据的分布模式\n"
     ]
    }
   ],
   "source": [
    "# 创建箱线图与小提琴图对比\n",
    "fig, axes = plt.subplots(2, 2, figsize=(16, 12))\n",
    "fig.suptitle('箱线图 vs 小提琴图：数据分布对比分析', fontsize=16, fontweight='bold')\n",
    "\n",
    "# 图书价格对比\n",
    "if not books_df.empty and '价格' in books_df.columns:\n",
    "    # 箱线图\n",
    "    sns.boxplot(y=books_df['价格'], ax=axes[0, 0])\n",
    "    axes[0, 0].set_title('图书价格分布 - 箱线图')\n",
    "    axes[0, 0].set_ylabel('价格（元）')\n",
    "    \n",
    "    # 小提琴图\n",
    "    sns.violinplot(y=books_df['价格'], ax=axes[0, 1], inner='box')\n",
    "    axes[0, 1].set_title('图书价格分布 - 小提琴图')\n",
    "    axes[0, 1].set_ylabel('价格（元）')\n",
    "else:\n",
    "    axes[0, 0].text(0.5, 0.5, '图书数据不可用', ha='center', va='center', transform=axes[0, 0].transAxes)\n",
    "    axes[0, 1].text(0.5, 0.5, '图书数据不可用', ha='center', va='center', transform=axes[0, 1].transAxes)\n",
    "\n",
    "# 电影评分对比\n",
    "if not movies_df.empty and '评分' in movies_df.columns:\n",
    "    # 箱线图\n",
    "    sns.boxplot(y=movies_df['评分'], ax=axes[1, 0])\n",
    "    axes[1, 0].set_title('电影评分分布 - 箱线图')\n",
    "    axes[1, 0].set_ylabel('评分')\n",
    "    \n",
    "    # 小提琴图\n",
    "    sns.violinplot(y=movies_df['评分'], ax=axes[1, 1], inner='box')\n",
    "    axes[1, 1].set_title('电影评分分布 - 小提琴图')\n",
    "    axes[1, 1].set_ylabel('评分')\n",
    "else:\n",
    "    axes[1, 0].text(0.5, 0.5, '电影数据不可用', ha='center', va='center', transform=axes[1, 0].transAxes)\n",
    "    axes[1, 1].text(0.5, 0.5, '电影数据不可用', ha='center', va='center', transform=axes[1, 1].transAxes)\n",
    "\n",
    "plt.tight_layout()\n",
    "plt.show()\n",
    "\n",
    "# 分析说明\n",
    "print(\"=== 箱线图和小提琴图分析说明 ===\")\n",
    "print(\"\\n箱线图特点:\")\n",
    "print(\"- 清晰显示四分位数（Q1, Q2, Q3）\")\n",
    "print(\"- 明确标识异常值（outliers）\")\n",
    "print(\"- 适合快速了解数据的集中趋势和离散程度\")\n",
    "print(\"- 占用空间小，适合多组数据对比\")\n",
    "\n",
    "print(\"\\n小提琴图特点:\")\n",
    "print(\"- 显示数据的概率密度分布\")\n",
    "print(\"- 能看出数据分布的形状（单峰、双峰等）\")\n",
    "print(\"- 提供比箱线图更丰富的分布信息\")\n",
    "print(\"- 适合分析数据的分布模式\")"
   ]
  },
  {
   "cell_type": "markdown",
   "metadata": {},
   "source": [
    "### 4.4 交互式可视化"
   ]
  },
  {
   "cell_type": "code",
   "execution_count": 46,
   "metadata": {},
   "outputs": [
    {
     "data": {
      "application/vnd.plotly.v1+json": {
       "config": {
        "plotlyServerURL": "https://plot.ly"
       },
       "data": [
        {
         "alignmentgroup": "True",
         "hovertemplate": "价格=%{y}<extra></extra>",
         "legendgroup": "",
         "marker": {
          "color": "#636efa"
         },
         "name": "",
         "notched": false,
         "offsetgroup": "",
         "orientation": "v",
         "showlegend": false,
         "type": "box",
         "x0": " ",
         "xaxis": "x",
         "y": [
          69,
          42.8,
          36.12,
          36.1,
          29,
          19.9,
          38.7,
          10,
          19.9,
          41.3,
          42.1,
          19.9,
          42.1,
          38.7,
          24,
          18.6,
          42.8,
          34.2,
          31,
          19.9,
          10,
          36.81,
          27,
          15.52,
          33.8,
          10,
          42.8,
          38.8,
          10,
          15.5,
          15.5,
          11.54,
          19.9,
          23.9,
          36.12,
          39.6,
          29.9,
          28,
          55.1,
          56,
          28,
          36,
          47.3,
          40,
          55.9,
          29,
          70.9,
          48.3,
          46.9,
          49,
          51.5,
          29.8,
          98,
          34.5,
          28.6,
          51.4,
          2.2,
          28.6,
          48,
          28.6,
          42.1,
          2.2,
          41.3,
          18.2,
          39.5,
          32,
          17.5,
          49,
          2.2,
          9.9,
          39.8,
          2.2,
          99,
          49.8,
          49.8,
          35.8,
          49.9,
          8.3,
          117.6,
          6.6,
          29.8,
          46.92,
          39.8,
          17.8,
          58,
          27.2,
          28,
          12.6,
          49.4,
          49.8,
          27.5,
          34.2,
          29,
          5.5,
          15.9,
          45,
          79.8,
          2.2,
          24.5,
          21.4,
          398,
          49.8,
          63.7,
          24.8,
          29,
          39,
          64.6,
          75.1,
          35.2,
          31,
          13.2,
          59,
          35.8,
          35.9,
          29.1,
          49.8,
          29.9,
          69.8,
          41.6,
          8.5,
          42.9,
          69.8,
          26.7,
          59.4,
          26.2,
          23,
          57.2,
          52,
          74.1,
          18.8,
          49,
          23.8,
          10,
          15,
          39.5,
          39.5,
          98,
          56.8,
          57.2,
          47.7,
          33.2,
          44.7,
          43,
          22.8,
          49,
          22.5,
          9.9,
          24.9,
          27,
          49.4,
          46.5,
          39,
          41.45,
          19.64,
          39.8,
          10,
          29.8,
          49.8,
          32.8,
          36.8,
          35.8,
          26.8,
          99,
          17.1,
          32,
          40.6,
          42.5,
          7.8,
          32,
          35.2,
          46.7,
          61.9,
          42.9,
          42.6,
          12.9,
          20,
          29.9,
          47.8,
          7.6,
          36.2,
          34.8,
          39,
          42.8,
          48.8,
          29.8,
          99.8,
          49,
          9.9,
          13.8,
          34.8,
          17.8,
          35.6,
          70,
          70.5,
          29.9,
          41.8,
          58.5,
          22.74,
          9.9,
          9.9,
          32.4,
          169.1,
          131.1,
          20.5,
          49.8,
          148.5,
          29.8,
          34.8,
          39,
          243,
          27.8,
          22,
          19.8,
          25.8,
          49.9,
          113.6,
          49,
          62.4,
          31.5,
          15.8,
          25.8,
          12.8,
          52,
          49.9,
          19.5,
          98.8,
          28,
          14.6,
          5.4,
          83.6,
          34.4,
          32.8,
          58,
          49.8,
          50.4,
          47.2,
          15.5,
          29.9,
          53.2,
          48.3,
          34.2,
          15.8,
          58,
          7.5,
          39,
          69,
          58,
          34.3,
          49.8,
          36,
          36,
          18.63,
          64.6,
          55,
          29.9,
          32,
          13,
          29.9,
          10.8,
          49.9,
          14.3,
          47.2,
          56.1,
          41.3,
          49.8,
          22.8,
          72,
          34.2,
          39,
          37.3,
          122.6,
          28.4,
          23,
          209,
          22.5,
          23.6,
          55.1,
          15.9,
          29.8,
          29.8,
          76,
          29,
          103.2,
          19.8,
          32.73,
          25.09,
          48,
          29.9,
          29.8,
          36.66,
          59.8,
          32,
          69.8,
          121.6,
          30.2,
          41.3,
          19,
          40.9,
          20.9,
          35,
          49.8,
          75.7,
          26.8,
          47.1,
          28,
          32.5,
          46.8,
          199,
          38,
          59,
          118.8,
          44.2,
          18.25,
          19.9,
          8.6,
          49,
          45.6,
          32,
          57.2,
          27.4,
          13.8,
          52.2,
          59.8,
          58.6,
          69.8,
          59.8,
          38,
          39.5,
          19.8,
          36,
          54.9,
          49.8,
          22.8,
          37.4,
          29.8,
          44.8,
          19.8,
          25.8,
          51.2,
          16.8,
          14.5,
          64,
          19,
          30.22,
          45.6,
          31.5,
          29.7,
          29.8,
          58.5,
          92.9,
          23.8,
          34,
          83.6,
          30.1,
          49.8,
          55,
          46.6,
          46.6,
          46.6,
          29,
          59.8,
          42.1,
          59.8,
          29.9,
          14.9,
          39,
          26.9,
          19.9,
          29.8,
          29.8,
          25.8,
          19.8,
          69,
          46.9,
          52.8,
          29.2,
          39.8,
          18.4,
          25.5,
          35
         ],
         "y0": " ",
         "yaxis": "y"
        }
       ],
       "layout": {
        "boxmode": "group",
        "height": 500,
        "legend": {
         "tracegroupgap": 0
        },
        "template": {
         "data": {
          "bar": [
           {
            "error_x": {
             "color": "#2a3f5f"
            },
            "error_y": {
             "color": "#2a3f5f"
            },
            "marker": {
             "line": {
              "color": "#E5ECF6",
              "width": 0.5
             },
             "pattern": {
              "fillmode": "overlay",
              "size": 10,
              "solidity": 0.2
             }
            },
            "type": "bar"
           }
          ],
          "barpolar": [
           {
            "marker": {
             "line": {
              "color": "#E5ECF6",
              "width": 0.5
             },
             "pattern": {
              "fillmode": "overlay",
              "size": 10,
              "solidity": 0.2
             }
            },
            "type": "barpolar"
           }
          ],
          "carpet": [
           {
            "aaxis": {
             "endlinecolor": "#2a3f5f",
             "gridcolor": "white",
             "linecolor": "white",
             "minorgridcolor": "white",
             "startlinecolor": "#2a3f5f"
            },
            "baxis": {
             "endlinecolor": "#2a3f5f",
             "gridcolor": "white",
             "linecolor": "white",
             "minorgridcolor": "white",
             "startlinecolor": "#2a3f5f"
            },
            "type": "carpet"
           }
          ],
          "choropleth": [
           {
            "colorbar": {
             "outlinewidth": 0,
             "ticks": ""
            },
            "type": "choropleth"
           }
          ],
          "contour": [
           {
            "colorbar": {
             "outlinewidth": 0,
             "ticks": ""
            },
            "colorscale": [
             [
              0,
              "#0d0887"
             ],
             [
              0.1111111111111111,
              "#46039f"
             ],
             [
              0.2222222222222222,
              "#7201a8"
             ],
             [
              0.3333333333333333,
              "#9c179e"
             ],
             [
              0.4444444444444444,
              "#bd3786"
             ],
             [
              0.5555555555555556,
              "#d8576b"
             ],
             [
              0.6666666666666666,
              "#ed7953"
             ],
             [
              0.7777777777777778,
              "#fb9f3a"
             ],
             [
              0.8888888888888888,
              "#fdca26"
             ],
             [
              1,
              "#f0f921"
             ]
            ],
            "type": "contour"
           }
          ],
          "contourcarpet": [
           {
            "colorbar": {
             "outlinewidth": 0,
             "ticks": ""
            },
            "type": "contourcarpet"
           }
          ],
          "heatmap": [
           {
            "colorbar": {
             "outlinewidth": 0,
             "ticks": ""
            },
            "colorscale": [
             [
              0,
              "#0d0887"
             ],
             [
              0.1111111111111111,
              "#46039f"
             ],
             [
              0.2222222222222222,
              "#7201a8"
             ],
             [
              0.3333333333333333,
              "#9c179e"
             ],
             [
              0.4444444444444444,
              "#bd3786"
             ],
             [
              0.5555555555555556,
              "#d8576b"
             ],
             [
              0.6666666666666666,
              "#ed7953"
             ],
             [
              0.7777777777777778,
              "#fb9f3a"
             ],
             [
              0.8888888888888888,
              "#fdca26"
             ],
             [
              1,
              "#f0f921"
             ]
            ],
            "type": "heatmap"
           }
          ],
          "heatmapgl": [
           {
            "colorbar": {
             "outlinewidth": 0,
             "ticks": ""
            },
            "colorscale": [
             [
              0,
              "#0d0887"
             ],
             [
              0.1111111111111111,
              "#46039f"
             ],
             [
              0.2222222222222222,
              "#7201a8"
             ],
             [
              0.3333333333333333,
              "#9c179e"
             ],
             [
              0.4444444444444444,
              "#bd3786"
             ],
             [
              0.5555555555555556,
              "#d8576b"
             ],
             [
              0.6666666666666666,
              "#ed7953"
             ],
             [
              0.7777777777777778,
              "#fb9f3a"
             ],
             [
              0.8888888888888888,
              "#fdca26"
             ],
             [
              1,
              "#f0f921"
             ]
            ],
            "type": "heatmapgl"
           }
          ],
          "histogram": [
           {
            "marker": {
             "pattern": {
              "fillmode": "overlay",
              "size": 10,
              "solidity": 0.2
             }
            },
            "type": "histogram"
           }
          ],
          "histogram2d": [
           {
            "colorbar": {
             "outlinewidth": 0,
             "ticks": ""
            },
            "colorscale": [
             [
              0,
              "#0d0887"
             ],
             [
              0.1111111111111111,
              "#46039f"
             ],
             [
              0.2222222222222222,
              "#7201a8"
             ],
             [
              0.3333333333333333,
              "#9c179e"
             ],
             [
              0.4444444444444444,
              "#bd3786"
             ],
             [
              0.5555555555555556,
              "#d8576b"
             ],
             [
              0.6666666666666666,
              "#ed7953"
             ],
             [
              0.7777777777777778,
              "#fb9f3a"
             ],
             [
              0.8888888888888888,
              "#fdca26"
             ],
             [
              1,
              "#f0f921"
             ]
            ],
            "type": "histogram2d"
           }
          ],
          "histogram2dcontour": [
           {
            "colorbar": {
             "outlinewidth": 0,
             "ticks": ""
            },
            "colorscale": [
             [
              0,
              "#0d0887"
             ],
             [
              0.1111111111111111,
              "#46039f"
             ],
             [
              0.2222222222222222,
              "#7201a8"
             ],
             [
              0.3333333333333333,
              "#9c179e"
             ],
             [
              0.4444444444444444,
              "#bd3786"
             ],
             [
              0.5555555555555556,
              "#d8576b"
             ],
             [
              0.6666666666666666,
              "#ed7953"
             ],
             [
              0.7777777777777778,
              "#fb9f3a"
             ],
             [
              0.8888888888888888,
              "#fdca26"
             ],
             [
              1,
              "#f0f921"
             ]
            ],
            "type": "histogram2dcontour"
           }
          ],
          "mesh3d": [
           {
            "colorbar": {
             "outlinewidth": 0,
             "ticks": ""
            },
            "type": "mesh3d"
           }
          ],
          "parcoords": [
           {
            "line": {
             "colorbar": {
              "outlinewidth": 0,
              "ticks": ""
             }
            },
            "type": "parcoords"
           }
          ],
          "pie": [
           {
            "automargin": true,
            "type": "pie"
           }
          ],
          "scatter": [
           {
            "fillpattern": {
             "fillmode": "overlay",
             "size": 10,
             "solidity": 0.2
            },
            "type": "scatter"
           }
          ],
          "scatter3d": [
           {
            "line": {
             "colorbar": {
              "outlinewidth": 0,
              "ticks": ""
             }
            },
            "marker": {
             "colorbar": {
              "outlinewidth": 0,
              "ticks": ""
             }
            },
            "type": "scatter3d"
           }
          ],
          "scattercarpet": [
           {
            "marker": {
             "colorbar": {
              "outlinewidth": 0,
              "ticks": ""
             }
            },
            "type": "scattercarpet"
           }
          ],
          "scattergeo": [
           {
            "marker": {
             "colorbar": {
              "outlinewidth": 0,
              "ticks": ""
             }
            },
            "type": "scattergeo"
           }
          ],
          "scattergl": [
           {
            "marker": {
             "colorbar": {
              "outlinewidth": 0,
              "ticks": ""
             }
            },
            "type": "scattergl"
           }
          ],
          "scattermapbox": [
           {
            "marker": {
             "colorbar": {
              "outlinewidth": 0,
              "ticks": ""
             }
            },
            "type": "scattermapbox"
           }
          ],
          "scatterpolar": [
           {
            "marker": {
             "colorbar": {
              "outlinewidth": 0,
              "ticks": ""
             }
            },
            "type": "scatterpolar"
           }
          ],
          "scatterpolargl": [
           {
            "marker": {
             "colorbar": {
              "outlinewidth": 0,
              "ticks": ""
             }
            },
            "type": "scatterpolargl"
           }
          ],
          "scatterternary": [
           {
            "marker": {
             "colorbar": {
              "outlinewidth": 0,
              "ticks": ""
             }
            },
            "type": "scatterternary"
           }
          ],
          "surface": [
           {
            "colorbar": {
             "outlinewidth": 0,
             "ticks": ""
            },
            "colorscale": [
             [
              0,
              "#0d0887"
             ],
             [
              0.1111111111111111,
              "#46039f"
             ],
             [
              0.2222222222222222,
              "#7201a8"
             ],
             [
              0.3333333333333333,
              "#9c179e"
             ],
             [
              0.4444444444444444,
              "#bd3786"
             ],
             [
              0.5555555555555556,
              "#d8576b"
             ],
             [
              0.6666666666666666,
              "#ed7953"
             ],
             [
              0.7777777777777778,
              "#fb9f3a"
             ],
             [
              0.8888888888888888,
              "#fdca26"
             ],
             [
              1,
              "#f0f921"
             ]
            ],
            "type": "surface"
           }
          ],
          "table": [
           {
            "cells": {
             "fill": {
              "color": "#EBF0F8"
             },
             "line": {
              "color": "white"
             }
            },
            "header": {
             "fill": {
              "color": "#C8D4E3"
             },
             "line": {
              "color": "white"
             }
            },
            "type": "table"
           }
          ]
         },
         "layout": {
          "annotationdefaults": {
           "arrowcolor": "#2a3f5f",
           "arrowhead": 0,
           "arrowwidth": 1
          },
          "autotypenumbers": "strict",
          "coloraxis": {
           "colorbar": {
            "outlinewidth": 0,
            "ticks": ""
           }
          },
          "colorscale": {
           "diverging": [
            [
             0,
             "#8e0152"
            ],
            [
             0.1,
             "#c51b7d"
            ],
            [
             0.2,
             "#de77ae"
            ],
            [
             0.3,
             "#f1b6da"
            ],
            [
             0.4,
             "#fde0ef"
            ],
            [
             0.5,
             "#f7f7f7"
            ],
            [
             0.6,
             "#e6f5d0"
            ],
            [
             0.7,
             "#b8e186"
            ],
            [
             0.8,
             "#7fbc41"
            ],
            [
             0.9,
             "#4d9221"
            ],
            [
             1,
             "#276419"
            ]
           ],
           "sequential": [
            [
             0,
             "#0d0887"
            ],
            [
             0.1111111111111111,
             "#46039f"
            ],
            [
             0.2222222222222222,
             "#7201a8"
            ],
            [
             0.3333333333333333,
             "#9c179e"
            ],
            [
             0.4444444444444444,
             "#bd3786"
            ],
            [
             0.5555555555555556,
             "#d8576b"
            ],
            [
             0.6666666666666666,
             "#ed7953"
            ],
            [
             0.7777777777777778,
             "#fb9f3a"
            ],
            [
             0.8888888888888888,
             "#fdca26"
            ],
            [
             1,
             "#f0f921"
            ]
           ],
           "sequentialminus": [
            [
             0,
             "#0d0887"
            ],
            [
             0.1111111111111111,
             "#46039f"
            ],
            [
             0.2222222222222222,
             "#7201a8"
            ],
            [
             0.3333333333333333,
             "#9c179e"
            ],
            [
             0.4444444444444444,
             "#bd3786"
            ],
            [
             0.5555555555555556,
             "#d8576b"
            ],
            [
             0.6666666666666666,
             "#ed7953"
            ],
            [
             0.7777777777777778,
             "#fb9f3a"
            ],
            [
             0.8888888888888888,
             "#fdca26"
            ],
            [
             1,
             "#f0f921"
            ]
           ]
          },
          "colorway": [
           "#636efa",
           "#EF553B",
           "#00cc96",
           "#ab63fa",
           "#FFA15A",
           "#19d3f3",
           "#FF6692",
           "#B6E880",
           "#FF97FF",
           "#FECB52"
          ],
          "font": {
           "color": "#2a3f5f"
          },
          "geo": {
           "bgcolor": "white",
           "lakecolor": "white",
           "landcolor": "#E5ECF6",
           "showlakes": true,
           "showland": true,
           "subunitcolor": "white"
          },
          "hoverlabel": {
           "align": "left"
          },
          "hovermode": "closest",
          "mapbox": {
           "style": "light"
          },
          "paper_bgcolor": "white",
          "plot_bgcolor": "#E5ECF6",
          "polar": {
           "angularaxis": {
            "gridcolor": "white",
            "linecolor": "white",
            "ticks": ""
           },
           "bgcolor": "#E5ECF6",
           "radialaxis": {
            "gridcolor": "white",
            "linecolor": "white",
            "ticks": ""
           }
          },
          "scene": {
           "xaxis": {
            "backgroundcolor": "#E5ECF6",
            "gridcolor": "white",
            "gridwidth": 2,
            "linecolor": "white",
            "showbackground": true,
            "ticks": "",
            "zerolinecolor": "white"
           },
           "yaxis": {
            "backgroundcolor": "#E5ECF6",
            "gridcolor": "white",
            "gridwidth": 2,
            "linecolor": "white",
            "showbackground": true,
            "ticks": "",
            "zerolinecolor": "white"
           },
           "zaxis": {
            "backgroundcolor": "#E5ECF6",
            "gridcolor": "white",
            "gridwidth": 2,
            "linecolor": "white",
            "showbackground": true,
            "ticks": "",
            "zerolinecolor": "white"
           }
          },
          "shapedefaults": {
           "line": {
            "color": "#2a3f5f"
           }
          },
          "ternary": {
           "aaxis": {
            "gridcolor": "white",
            "linecolor": "white",
            "ticks": ""
           },
           "baxis": {
            "gridcolor": "white",
            "linecolor": "white",
            "ticks": ""
           },
           "bgcolor": "#E5ECF6",
           "caxis": {
            "gridcolor": "white",
            "linecolor": "white",
            "ticks": ""
           }
          },
          "title": {
           "x": 0.05
          },
          "xaxis": {
           "automargin": true,
           "gridcolor": "white",
           "linecolor": "white",
           "ticks": "",
           "title": {
            "standoff": 15
           },
           "zerolinecolor": "white",
           "zerolinewidth": 2
          },
          "yaxis": {
           "automargin": true,
           "gridcolor": "white",
           "linecolor": "white",
           "ticks": "",
           "title": {
            "standoff": 15
           },
           "zerolinecolor": "white",
           "zerolinewidth": 2
          }
         }
        },
        "title": {
         "text": "图书价格分布 - 交互式箱线图"
        },
        "width": 800,
        "xaxis": {
         "anchor": "y",
         "domain": [
          0,
          1
         ]
        },
        "yaxis": {
         "anchor": "x",
         "domain": [
          0,
          1
         ],
         "title": {
          "text": "价格"
         }
        }
       }
      }
     },
     "metadata": {},
     "output_type": "display_data"
    },
    {
     "data": {
      "application/vnd.plotly.v1+json": {
       "config": {
        "plotlyServerURL": "https://plot.ly"
       },
       "data": [
        {
         "alignmentgroup": "True",
         "box": {
          "visible": true
         },
         "hovertemplate": "价格分组=高价位(>60元)<br>价格=%{y}<extra></extra>",
         "legendgroup": "高价位(>60元)",
         "marker": {
          "color": "#636efa"
         },
         "name": "高价位(>60元)",
         "offsetgroup": "高价位(>60元)",
         "orientation": "v",
         "scalegroup": "True",
         "showlegend": true,
         "type": "violin",
         "x0": " ",
         "xaxis": "x",
         "y": [
          69,
          70.9,
          98,
          99,
          117.6,
          79.8,
          398,
          63.7,
          64.6,
          75.1,
          69.8,
          69.8,
          74.1,
          98,
          99,
          61.9,
          99.8,
          70,
          70.5,
          169.1,
          131.1,
          148.5,
          243,
          113.6,
          62.4,
          98.8,
          83.6,
          69,
          64.6,
          72,
          122.6,
          209,
          76,
          103.2,
          69.8,
          121.6,
          75.7,
          199,
          118.8,
          69.8,
          64,
          92.9,
          83.6,
          69
         ],
         "y0": " ",
         "yaxis": "y"
        },
        {
         "alignmentgroup": "True",
         "box": {
          "visible": true
         },
         "hovertemplate": "价格分组=中价位(30-60元)<br>价格=%{y}<extra></extra>",
         "legendgroup": "中价位(30-60元)",
         "marker": {
          "color": "#EF553B"
         },
         "name": "中价位(30-60元)",
         "offsetgroup": "中价位(30-60元)",
         "orientation": "v",
         "scalegroup": "True",
         "showlegend": true,
         "type": "violin",
         "x0": " ",
         "xaxis": "x",
         "y": [
          42.8,
          36.12,
          36.1,
          38.7,
          41.3,
          42.1,
          42.1,
          38.7,
          42.8,
          34.2,
          31,
          36.81,
          33.8,
          42.8,
          38.8,
          36.12,
          39.6,
          55.1,
          56,
          36,
          47.3,
          40,
          55.9,
          48.3,
          46.9,
          49,
          51.5,
          34.5,
          51.4,
          48,
          42.1,
          41.3,
          39.5,
          32,
          49,
          39.8,
          49.8,
          49.8,
          35.8,
          49.9,
          46.92,
          39.8,
          58,
          49.4,
          49.8,
          34.2,
          45,
          49.8,
          39,
          35.2,
          31,
          59,
          35.8,
          35.9,
          49.8,
          41.6,
          42.9,
          59.4,
          57.2,
          52,
          49,
          39.5,
          39.5,
          56.8,
          57.2,
          47.7,
          33.2,
          44.7,
          43,
          49,
          49.4,
          46.5,
          39,
          41.45,
          39.8,
          49.8,
          32.8,
          36.8,
          35.8,
          32,
          40.6,
          42.5,
          32,
          35.2,
          46.7,
          42.9,
          42.6,
          47.8,
          36.2,
          34.8,
          39,
          42.8,
          48.8,
          49,
          34.8,
          35.6,
          41.8,
          58.5,
          32.4,
          49.8,
          34.8,
          39,
          49.9,
          49,
          31.5,
          52,
          49.9,
          34.4,
          32.8,
          58,
          49.8,
          50.4,
          47.2,
          53.2,
          48.3,
          34.2,
          58,
          39,
          58,
          34.3,
          49.8,
          36,
          36,
          55,
          32,
          49.9,
          47.2,
          56.1,
          41.3,
          49.8,
          34.2,
          39,
          37.3,
          55.1,
          32.73,
          48,
          36.66,
          59.8,
          32,
          30.2,
          41.3,
          40.9,
          35,
          49.8,
          47.1,
          32.5,
          46.8,
          38,
          59,
          44.2,
          49,
          45.6,
          32,
          57.2,
          52.2,
          59.8,
          58.6,
          59.8,
          38,
          39.5,
          36,
          54.9,
          49.8,
          37.4,
          44.8,
          51.2,
          30.22,
          45.6,
          31.5,
          58.5,
          34,
          30.1,
          49.8,
          55,
          46.6,
          46.6,
          46.6,
          59.8,
          42.1,
          59.8,
          39,
          46.9,
          52.8,
          39.8,
          35
         ],
         "y0": " ",
         "yaxis": "y"
        },
        {
         "alignmentgroup": "True",
         "box": {
          "visible": true
         },
         "hovertemplate": "价格分组=低价位(≤30元)<br>价格=%{y}<extra></extra>",
         "legendgroup": "低价位(≤30元)",
         "marker": {
          "color": "#00cc96"
         },
         "name": "低价位(≤30元)",
         "offsetgroup": "低价位(≤30元)",
         "orientation": "v",
         "scalegroup": "True",
         "showlegend": true,
         "type": "violin",
         "x0": " ",
         "xaxis": "x",
         "y": [
          29,
          19.9,
          10,
          19.9,
          19.9,
          24,
          18.6,
          19.9,
          10,
          27,
          15.52,
          10,
          10,
          15.5,
          15.5,
          11.54,
          19.9,
          23.9,
          29.9,
          28,
          28,
          29,
          29.8,
          28.6,
          2.2,
          28.6,
          28.6,
          2.2,
          18.2,
          17.5,
          2.2,
          9.9,
          2.2,
          8.3,
          6.6,
          29.8,
          17.8,
          27.2,
          28,
          12.6,
          27.5,
          29,
          5.5,
          15.9,
          2.2,
          24.5,
          21.4,
          24.8,
          29,
          13.2,
          29.1,
          29.9,
          8.5,
          26.7,
          26.2,
          23,
          18.8,
          23.8,
          10,
          15,
          22.8,
          22.5,
          9.9,
          24.9,
          27,
          19.64,
          10,
          29.8,
          26.8,
          17.1,
          7.8,
          12.9,
          20,
          29.9,
          7.6,
          29.8,
          9.9,
          13.8,
          17.8,
          29.9,
          22.74,
          9.9,
          9.9,
          20.5,
          29.8,
          27.8,
          22,
          19.8,
          25.8,
          15.8,
          25.8,
          12.8,
          19.5,
          28,
          14.6,
          5.4,
          15.5,
          29.9,
          15.8,
          7.5,
          18.63,
          29.9,
          13,
          29.9,
          10.8,
          14.3,
          22.8,
          28.4,
          23,
          22.5,
          23.6,
          15.9,
          29.8,
          29.8,
          29,
          19.8,
          25.09,
          29.9,
          29.8,
          19,
          20.9,
          26.8,
          28,
          18.25,
          19.9,
          8.6,
          27.4,
          13.8,
          19.8,
          22.8,
          29.8,
          19.8,
          25.8,
          16.8,
          14.5,
          19,
          29.7,
          29.8,
          23.8,
          29,
          29.9,
          14.9,
          26.9,
          19.9,
          29.8,
          29.8,
          25.8,
          19.8,
          29.2,
          18.4,
          25.5
         ],
         "y0": " ",
         "yaxis": "y"
        }
       ],
       "layout": {
        "height": 500,
        "legend": {
         "title": {
          "text": "价格分组"
         },
         "tracegroupgap": 0
        },
        "template": {
         "data": {
          "bar": [
           {
            "error_x": {
             "color": "#2a3f5f"
            },
            "error_y": {
             "color": "#2a3f5f"
            },
            "marker": {
             "line": {
              "color": "#E5ECF6",
              "width": 0.5
             },
             "pattern": {
              "fillmode": "overlay",
              "size": 10,
              "solidity": 0.2
             }
            },
            "type": "bar"
           }
          ],
          "barpolar": [
           {
            "marker": {
             "line": {
              "color": "#E5ECF6",
              "width": 0.5
             },
             "pattern": {
              "fillmode": "overlay",
              "size": 10,
              "solidity": 0.2
             }
            },
            "type": "barpolar"
           }
          ],
          "carpet": [
           {
            "aaxis": {
             "endlinecolor": "#2a3f5f",
             "gridcolor": "white",
             "linecolor": "white",
             "minorgridcolor": "white",
             "startlinecolor": "#2a3f5f"
            },
            "baxis": {
             "endlinecolor": "#2a3f5f",
             "gridcolor": "white",
             "linecolor": "white",
             "minorgridcolor": "white",
             "startlinecolor": "#2a3f5f"
            },
            "type": "carpet"
           }
          ],
          "choropleth": [
           {
            "colorbar": {
             "outlinewidth": 0,
             "ticks": ""
            },
            "type": "choropleth"
           }
          ],
          "contour": [
           {
            "colorbar": {
             "outlinewidth": 0,
             "ticks": ""
            },
            "colorscale": [
             [
              0,
              "#0d0887"
             ],
             [
              0.1111111111111111,
              "#46039f"
             ],
             [
              0.2222222222222222,
              "#7201a8"
             ],
             [
              0.3333333333333333,
              "#9c179e"
             ],
             [
              0.4444444444444444,
              "#bd3786"
             ],
             [
              0.5555555555555556,
              "#d8576b"
             ],
             [
              0.6666666666666666,
              "#ed7953"
             ],
             [
              0.7777777777777778,
              "#fb9f3a"
             ],
             [
              0.8888888888888888,
              "#fdca26"
             ],
             [
              1,
              "#f0f921"
             ]
            ],
            "type": "contour"
           }
          ],
          "contourcarpet": [
           {
            "colorbar": {
             "outlinewidth": 0,
             "ticks": ""
            },
            "type": "contourcarpet"
           }
          ],
          "heatmap": [
           {
            "colorbar": {
             "outlinewidth": 0,
             "ticks": ""
            },
            "colorscale": [
             [
              0,
              "#0d0887"
             ],
             [
              0.1111111111111111,
              "#46039f"
             ],
             [
              0.2222222222222222,
              "#7201a8"
             ],
             [
              0.3333333333333333,
              "#9c179e"
             ],
             [
              0.4444444444444444,
              "#bd3786"
             ],
             [
              0.5555555555555556,
              "#d8576b"
             ],
             [
              0.6666666666666666,
              "#ed7953"
             ],
             [
              0.7777777777777778,
              "#fb9f3a"
             ],
             [
              0.8888888888888888,
              "#fdca26"
             ],
             [
              1,
              "#f0f921"
             ]
            ],
            "type": "heatmap"
           }
          ],
          "heatmapgl": [
           {
            "colorbar": {
             "outlinewidth": 0,
             "ticks": ""
            },
            "colorscale": [
             [
              0,
              "#0d0887"
             ],
             [
              0.1111111111111111,
              "#46039f"
             ],
             [
              0.2222222222222222,
              "#7201a8"
             ],
             [
              0.3333333333333333,
              "#9c179e"
             ],
             [
              0.4444444444444444,
              "#bd3786"
             ],
             [
              0.5555555555555556,
              "#d8576b"
             ],
             [
              0.6666666666666666,
              "#ed7953"
             ],
             [
              0.7777777777777778,
              "#fb9f3a"
             ],
             [
              0.8888888888888888,
              "#fdca26"
             ],
             [
              1,
              "#f0f921"
             ]
            ],
            "type": "heatmapgl"
           }
          ],
          "histogram": [
           {
            "marker": {
             "pattern": {
              "fillmode": "overlay",
              "size": 10,
              "solidity": 0.2
             }
            },
            "type": "histogram"
           }
          ],
          "histogram2d": [
           {
            "colorbar": {
             "outlinewidth": 0,
             "ticks": ""
            },
            "colorscale": [
             [
              0,
              "#0d0887"
             ],
             [
              0.1111111111111111,
              "#46039f"
             ],
             [
              0.2222222222222222,
              "#7201a8"
             ],
             [
              0.3333333333333333,
              "#9c179e"
             ],
             [
              0.4444444444444444,
              "#bd3786"
             ],
             [
              0.5555555555555556,
              "#d8576b"
             ],
             [
              0.6666666666666666,
              "#ed7953"
             ],
             [
              0.7777777777777778,
              "#fb9f3a"
             ],
             [
              0.8888888888888888,
              "#fdca26"
             ],
             [
              1,
              "#f0f921"
             ]
            ],
            "type": "histogram2d"
           }
          ],
          "histogram2dcontour": [
           {
            "colorbar": {
             "outlinewidth": 0,
             "ticks": ""
            },
            "colorscale": [
             [
              0,
              "#0d0887"
             ],
             [
              0.1111111111111111,
              "#46039f"
             ],
             [
              0.2222222222222222,
              "#7201a8"
             ],
             [
              0.3333333333333333,
              "#9c179e"
             ],
             [
              0.4444444444444444,
              "#bd3786"
             ],
             [
              0.5555555555555556,
              "#d8576b"
             ],
             [
              0.6666666666666666,
              "#ed7953"
             ],
             [
              0.7777777777777778,
              "#fb9f3a"
             ],
             [
              0.8888888888888888,
              "#fdca26"
             ],
             [
              1,
              "#f0f921"
             ]
            ],
            "type": "histogram2dcontour"
           }
          ],
          "mesh3d": [
           {
            "colorbar": {
             "outlinewidth": 0,
             "ticks": ""
            },
            "type": "mesh3d"
           }
          ],
          "parcoords": [
           {
            "line": {
             "colorbar": {
              "outlinewidth": 0,
              "ticks": ""
             }
            },
            "type": "parcoords"
           }
          ],
          "pie": [
           {
            "automargin": true,
            "type": "pie"
           }
          ],
          "scatter": [
           {
            "fillpattern": {
             "fillmode": "overlay",
             "size": 10,
             "solidity": 0.2
            },
            "type": "scatter"
           }
          ],
          "scatter3d": [
           {
            "line": {
             "colorbar": {
              "outlinewidth": 0,
              "ticks": ""
             }
            },
            "marker": {
             "colorbar": {
              "outlinewidth": 0,
              "ticks": ""
             }
            },
            "type": "scatter3d"
           }
          ],
          "scattercarpet": [
           {
            "marker": {
             "colorbar": {
              "outlinewidth": 0,
              "ticks": ""
             }
            },
            "type": "scattercarpet"
           }
          ],
          "scattergeo": [
           {
            "marker": {
             "colorbar": {
              "outlinewidth": 0,
              "ticks": ""
             }
            },
            "type": "scattergeo"
           }
          ],
          "scattergl": [
           {
            "marker": {
             "colorbar": {
              "outlinewidth": 0,
              "ticks": ""
             }
            },
            "type": "scattergl"
           }
          ],
          "scattermapbox": [
           {
            "marker": {
             "colorbar": {
              "outlinewidth": 0,
              "ticks": ""
             }
            },
            "type": "scattermapbox"
           }
          ],
          "scatterpolar": [
           {
            "marker": {
             "colorbar": {
              "outlinewidth": 0,
              "ticks": ""
             }
            },
            "type": "scatterpolar"
           }
          ],
          "scatterpolargl": [
           {
            "marker": {
             "colorbar": {
              "outlinewidth": 0,
              "ticks": ""
             }
            },
            "type": "scatterpolargl"
           }
          ],
          "scatterternary": [
           {
            "marker": {
             "colorbar": {
              "outlinewidth": 0,
              "ticks": ""
             }
            },
            "type": "scatterternary"
           }
          ],
          "surface": [
           {
            "colorbar": {
             "outlinewidth": 0,
             "ticks": ""
            },
            "colorscale": [
             [
              0,
              "#0d0887"
             ],
             [
              0.1111111111111111,
              "#46039f"
             ],
             [
              0.2222222222222222,
              "#7201a8"
             ],
             [
              0.3333333333333333,
              "#9c179e"
             ],
             [
              0.4444444444444444,
              "#bd3786"
             ],
             [
              0.5555555555555556,
              "#d8576b"
             ],
             [
              0.6666666666666666,
              "#ed7953"
             ],
             [
              0.7777777777777778,
              "#fb9f3a"
             ],
             [
              0.8888888888888888,
              "#fdca26"
             ],
             [
              1,
              "#f0f921"
             ]
            ],
            "type": "surface"
           }
          ],
          "table": [
           {
            "cells": {
             "fill": {
              "color": "#EBF0F8"
             },
             "line": {
              "color": "white"
             }
            },
            "header": {
             "fill": {
              "color": "#C8D4E3"
             },
             "line": {
              "color": "white"
             }
            },
            "type": "table"
           }
          ]
         },
         "layout": {
          "annotationdefaults": {
           "arrowcolor": "#2a3f5f",
           "arrowhead": 0,
           "arrowwidth": 1
          },
          "autotypenumbers": "strict",
          "coloraxis": {
           "colorbar": {
            "outlinewidth": 0,
            "ticks": ""
           }
          },
          "colorscale": {
           "diverging": [
            [
             0,
             "#8e0152"
            ],
            [
             0.1,
             "#c51b7d"
            ],
            [
             0.2,
             "#de77ae"
            ],
            [
             0.3,
             "#f1b6da"
            ],
            [
             0.4,
             "#fde0ef"
            ],
            [
             0.5,
             "#f7f7f7"
            ],
            [
             0.6,
             "#e6f5d0"
            ],
            [
             0.7,
             "#b8e186"
            ],
            [
             0.8,
             "#7fbc41"
            ],
            [
             0.9,
             "#4d9221"
            ],
            [
             1,
             "#276419"
            ]
           ],
           "sequential": [
            [
             0,
             "#0d0887"
            ],
            [
             0.1111111111111111,
             "#46039f"
            ],
            [
             0.2222222222222222,
             "#7201a8"
            ],
            [
             0.3333333333333333,
             "#9c179e"
            ],
            [
             0.4444444444444444,
             "#bd3786"
            ],
            [
             0.5555555555555556,
             "#d8576b"
            ],
            [
             0.6666666666666666,
             "#ed7953"
            ],
            [
             0.7777777777777778,
             "#fb9f3a"
            ],
            [
             0.8888888888888888,
             "#fdca26"
            ],
            [
             1,
             "#f0f921"
            ]
           ],
           "sequentialminus": [
            [
             0,
             "#0d0887"
            ],
            [
             0.1111111111111111,
             "#46039f"
            ],
            [
             0.2222222222222222,
             "#7201a8"
            ],
            [
             0.3333333333333333,
             "#9c179e"
            ],
            [
             0.4444444444444444,
             "#bd3786"
            ],
            [
             0.5555555555555556,
             "#d8576b"
            ],
            [
             0.6666666666666666,
             "#ed7953"
            ],
            [
             0.7777777777777778,
             "#fb9f3a"
            ],
            [
             0.8888888888888888,
             "#fdca26"
            ],
            [
             1,
             "#f0f921"
            ]
           ]
          },
          "colorway": [
           "#636efa",
           "#EF553B",
           "#00cc96",
           "#ab63fa",
           "#FFA15A",
           "#19d3f3",
           "#FF6692",
           "#B6E880",
           "#FF97FF",
           "#FECB52"
          ],
          "font": {
           "color": "#2a3f5f"
          },
          "geo": {
           "bgcolor": "white",
           "lakecolor": "white",
           "landcolor": "#E5ECF6",
           "showlakes": true,
           "showland": true,
           "subunitcolor": "white"
          },
          "hoverlabel": {
           "align": "left"
          },
          "hovermode": "closest",
          "mapbox": {
           "style": "light"
          },
          "paper_bgcolor": "white",
          "plot_bgcolor": "#E5ECF6",
          "polar": {
           "angularaxis": {
            "gridcolor": "white",
            "linecolor": "white",
            "ticks": ""
           },
           "bgcolor": "#E5ECF6",
           "radialaxis": {
            "gridcolor": "white",
            "linecolor": "white",
            "ticks": ""
           }
          },
          "scene": {
           "xaxis": {
            "backgroundcolor": "#E5ECF6",
            "gridcolor": "white",
            "gridwidth": 2,
            "linecolor": "white",
            "showbackground": true,
            "ticks": "",
            "zerolinecolor": "white"
           },
           "yaxis": {
            "backgroundcolor": "#E5ECF6",
            "gridcolor": "white",
            "gridwidth": 2,
            "linecolor": "white",
            "showbackground": true,
            "ticks": "",
            "zerolinecolor": "white"
           },
           "zaxis": {
            "backgroundcolor": "#E5ECF6",
            "gridcolor": "white",
            "gridwidth": 2,
            "linecolor": "white",
            "showbackground": true,
            "ticks": "",
            "zerolinecolor": "white"
           }
          },
          "shapedefaults": {
           "line": {
            "color": "#2a3f5f"
           }
          },
          "ternary": {
           "aaxis": {
            "gridcolor": "white",
            "linecolor": "white",
            "ticks": ""
           },
           "baxis": {
            "gridcolor": "white",
            "linecolor": "white",
            "ticks": ""
           },
           "bgcolor": "#E5ECF6",
           "caxis": {
            "gridcolor": "white",
            "linecolor": "white",
            "ticks": ""
           }
          },
          "title": {
           "x": 0.05
          },
          "xaxis": {
           "automargin": true,
           "gridcolor": "white",
           "linecolor": "white",
           "ticks": "",
           "title": {
            "standoff": 15
           },
           "zerolinecolor": "white",
           "zerolinewidth": 2
          },
          "yaxis": {
           "automargin": true,
           "gridcolor": "white",
           "linecolor": "white",
           "ticks": "",
           "title": {
            "standoff": 15
           },
           "zerolinecolor": "white",
           "zerolinewidth": 2
          }
         }
        },
        "title": {
         "text": "不同价格分组的图书价格分布 - 交互式小提琴图"
        },
        "violinmode": "group",
        "width": 800,
        "xaxis": {
         "anchor": "y",
         "domain": [
          0,
          1
         ]
        },
        "yaxis": {
         "anchor": "x",
         "domain": [
          0,
          1
         ],
         "title": {
          "text": "价格"
         }
        }
       }
      }
     },
     "metadata": {},
     "output_type": "display_data"
    },
    {
     "data": {
      "application/vnd.plotly.v1+json": {
       "config": {
        "plotlyServerURL": "https://plot.ly"
       },
       "data": [
        {
         "alignmentgroup": "True",
         "hovertemplate": "评分=%{y}<extra></extra>",
         "legendgroup": "",
         "marker": {
          "color": "#636efa"
         },
         "name": "",
         "notched": false,
         "offsetgroup": "",
         "orientation": "v",
         "showlegend": false,
         "type": "box",
         "x0": " ",
         "xaxis": "x",
         "y": [
          9.7,
          9.6,
          9.5,
          9.5,
          9.4,
          9.5,
          9.4,
          9.4,
          9.4,
          9.4,
          9.5,
          9.4,
          9.3,
          9.2,
          9.2,
          9.3,
          9.3,
          9.3,
          9.6,
          9.2,
          9.3,
          9.3,
          9.3,
          9.1,
          9.1,
          9.3,
          9.2,
          9.2,
          9.1,
          9.3,
          9.2,
          9.3,
          9,
          9.3,
          9.1,
          9,
          9.1,
          9.3,
          9.4,
          9.3,
          9.1,
          9.2,
          9,
          9.3,
          9.1,
          9.3,
          9.2,
          9,
          9.2,
          9.1,
          9.1,
          8.9,
          9.4,
          9.1,
          9.1,
          9.1,
          9.3,
          9.1,
          9.2,
          9.2,
          9.2,
          9,
          9,
          9.1,
          9.2,
          8.9,
          9.2,
          9.1,
          9,
          9.1,
          8.9,
          8.9,
          8.8,
          9,
          8.8
         ],
         "y0": " ",
         "yaxis": "y"
        }
       ],
       "layout": {
        "boxmode": "group",
        "height": 500,
        "legend": {
         "tracegroupgap": 0
        },
        "template": {
         "data": {
          "bar": [
           {
            "error_x": {
             "color": "#2a3f5f"
            },
            "error_y": {
             "color": "#2a3f5f"
            },
            "marker": {
             "line": {
              "color": "#E5ECF6",
              "width": 0.5
             },
             "pattern": {
              "fillmode": "overlay",
              "size": 10,
              "solidity": 0.2
             }
            },
            "type": "bar"
           }
          ],
          "barpolar": [
           {
            "marker": {
             "line": {
              "color": "#E5ECF6",
              "width": 0.5
             },
             "pattern": {
              "fillmode": "overlay",
              "size": 10,
              "solidity": 0.2
             }
            },
            "type": "barpolar"
           }
          ],
          "carpet": [
           {
            "aaxis": {
             "endlinecolor": "#2a3f5f",
             "gridcolor": "white",
             "linecolor": "white",
             "minorgridcolor": "white",
             "startlinecolor": "#2a3f5f"
            },
            "baxis": {
             "endlinecolor": "#2a3f5f",
             "gridcolor": "white",
             "linecolor": "white",
             "minorgridcolor": "white",
             "startlinecolor": "#2a3f5f"
            },
            "type": "carpet"
           }
          ],
          "choropleth": [
           {
            "colorbar": {
             "outlinewidth": 0,
             "ticks": ""
            },
            "type": "choropleth"
           }
          ],
          "contour": [
           {
            "colorbar": {
             "outlinewidth": 0,
             "ticks": ""
            },
            "colorscale": [
             [
              0,
              "#0d0887"
             ],
             [
              0.1111111111111111,
              "#46039f"
             ],
             [
              0.2222222222222222,
              "#7201a8"
             ],
             [
              0.3333333333333333,
              "#9c179e"
             ],
             [
              0.4444444444444444,
              "#bd3786"
             ],
             [
              0.5555555555555556,
              "#d8576b"
             ],
             [
              0.6666666666666666,
              "#ed7953"
             ],
             [
              0.7777777777777778,
              "#fb9f3a"
             ],
             [
              0.8888888888888888,
              "#fdca26"
             ],
             [
              1,
              "#f0f921"
             ]
            ],
            "type": "contour"
           }
          ],
          "contourcarpet": [
           {
            "colorbar": {
             "outlinewidth": 0,
             "ticks": ""
            },
            "type": "contourcarpet"
           }
          ],
          "heatmap": [
           {
            "colorbar": {
             "outlinewidth": 0,
             "ticks": ""
            },
            "colorscale": [
             [
              0,
              "#0d0887"
             ],
             [
              0.1111111111111111,
              "#46039f"
             ],
             [
              0.2222222222222222,
              "#7201a8"
             ],
             [
              0.3333333333333333,
              "#9c179e"
             ],
             [
              0.4444444444444444,
              "#bd3786"
             ],
             [
              0.5555555555555556,
              "#d8576b"
             ],
             [
              0.6666666666666666,
              "#ed7953"
             ],
             [
              0.7777777777777778,
              "#fb9f3a"
             ],
             [
              0.8888888888888888,
              "#fdca26"
             ],
             [
              1,
              "#f0f921"
             ]
            ],
            "type": "heatmap"
           }
          ],
          "heatmapgl": [
           {
            "colorbar": {
             "outlinewidth": 0,
             "ticks": ""
            },
            "colorscale": [
             [
              0,
              "#0d0887"
             ],
             [
              0.1111111111111111,
              "#46039f"
             ],
             [
              0.2222222222222222,
              "#7201a8"
             ],
             [
              0.3333333333333333,
              "#9c179e"
             ],
             [
              0.4444444444444444,
              "#bd3786"
             ],
             [
              0.5555555555555556,
              "#d8576b"
             ],
             [
              0.6666666666666666,
              "#ed7953"
             ],
             [
              0.7777777777777778,
              "#fb9f3a"
             ],
             [
              0.8888888888888888,
              "#fdca26"
             ],
             [
              1,
              "#f0f921"
             ]
            ],
            "type": "heatmapgl"
           }
          ],
          "histogram": [
           {
            "marker": {
             "pattern": {
              "fillmode": "overlay",
              "size": 10,
              "solidity": 0.2
             }
            },
            "type": "histogram"
           }
          ],
          "histogram2d": [
           {
            "colorbar": {
             "outlinewidth": 0,
             "ticks": ""
            },
            "colorscale": [
             [
              0,
              "#0d0887"
             ],
             [
              0.1111111111111111,
              "#46039f"
             ],
             [
              0.2222222222222222,
              "#7201a8"
             ],
             [
              0.3333333333333333,
              "#9c179e"
             ],
             [
              0.4444444444444444,
              "#bd3786"
             ],
             [
              0.5555555555555556,
              "#d8576b"
             ],
             [
              0.6666666666666666,
              "#ed7953"
             ],
             [
              0.7777777777777778,
              "#fb9f3a"
             ],
             [
              0.8888888888888888,
              "#fdca26"
             ],
             [
              1,
              "#f0f921"
             ]
            ],
            "type": "histogram2d"
           }
          ],
          "histogram2dcontour": [
           {
            "colorbar": {
             "outlinewidth": 0,
             "ticks": ""
            },
            "colorscale": [
             [
              0,
              "#0d0887"
             ],
             [
              0.1111111111111111,
              "#46039f"
             ],
             [
              0.2222222222222222,
              "#7201a8"
             ],
             [
              0.3333333333333333,
              "#9c179e"
             ],
             [
              0.4444444444444444,
              "#bd3786"
             ],
             [
              0.5555555555555556,
              "#d8576b"
             ],
             [
              0.6666666666666666,
              "#ed7953"
             ],
             [
              0.7777777777777778,
              "#fb9f3a"
             ],
             [
              0.8888888888888888,
              "#fdca26"
             ],
             [
              1,
              "#f0f921"
             ]
            ],
            "type": "histogram2dcontour"
           }
          ],
          "mesh3d": [
           {
            "colorbar": {
             "outlinewidth": 0,
             "ticks": ""
            },
            "type": "mesh3d"
           }
          ],
          "parcoords": [
           {
            "line": {
             "colorbar": {
              "outlinewidth": 0,
              "ticks": ""
             }
            },
            "type": "parcoords"
           }
          ],
          "pie": [
           {
            "automargin": true,
            "type": "pie"
           }
          ],
          "scatter": [
           {
            "fillpattern": {
             "fillmode": "overlay",
             "size": 10,
             "solidity": 0.2
            },
            "type": "scatter"
           }
          ],
          "scatter3d": [
           {
            "line": {
             "colorbar": {
              "outlinewidth": 0,
              "ticks": ""
             }
            },
            "marker": {
             "colorbar": {
              "outlinewidth": 0,
              "ticks": ""
             }
            },
            "type": "scatter3d"
           }
          ],
          "scattercarpet": [
           {
            "marker": {
             "colorbar": {
              "outlinewidth": 0,
              "ticks": ""
             }
            },
            "type": "scattercarpet"
           }
          ],
          "scattergeo": [
           {
            "marker": {
             "colorbar": {
              "outlinewidth": 0,
              "ticks": ""
             }
            },
            "type": "scattergeo"
           }
          ],
          "scattergl": [
           {
            "marker": {
             "colorbar": {
              "outlinewidth": 0,
              "ticks": ""
             }
            },
            "type": "scattergl"
           }
          ],
          "scattermapbox": [
           {
            "marker": {
             "colorbar": {
              "outlinewidth": 0,
              "ticks": ""
             }
            },
            "type": "scattermapbox"
           }
          ],
          "scatterpolar": [
           {
            "marker": {
             "colorbar": {
              "outlinewidth": 0,
              "ticks": ""
             }
            },
            "type": "scatterpolar"
           }
          ],
          "scatterpolargl": [
           {
            "marker": {
             "colorbar": {
              "outlinewidth": 0,
              "ticks": ""
             }
            },
            "type": "scatterpolargl"
           }
          ],
          "scatterternary": [
           {
            "marker": {
             "colorbar": {
              "outlinewidth": 0,
              "ticks": ""
             }
            },
            "type": "scatterternary"
           }
          ],
          "surface": [
           {
            "colorbar": {
             "outlinewidth": 0,
             "ticks": ""
            },
            "colorscale": [
             [
              0,
              "#0d0887"
             ],
             [
              0.1111111111111111,
              "#46039f"
             ],
             [
              0.2222222222222222,
              "#7201a8"
             ],
             [
              0.3333333333333333,
              "#9c179e"
             ],
             [
              0.4444444444444444,
              "#bd3786"
             ],
             [
              0.5555555555555556,
              "#d8576b"
             ],
             [
              0.6666666666666666,
              "#ed7953"
             ],
             [
              0.7777777777777778,
              "#fb9f3a"
             ],
             [
              0.8888888888888888,
              "#fdca26"
             ],
             [
              1,
              "#f0f921"
             ]
            ],
            "type": "surface"
           }
          ],
          "table": [
           {
            "cells": {
             "fill": {
              "color": "#EBF0F8"
             },
             "line": {
              "color": "white"
             }
            },
            "header": {
             "fill": {
              "color": "#C8D4E3"
             },
             "line": {
              "color": "white"
             }
            },
            "type": "table"
           }
          ]
         },
         "layout": {
          "annotationdefaults": {
           "arrowcolor": "#2a3f5f",
           "arrowhead": 0,
           "arrowwidth": 1
          },
          "autotypenumbers": "strict",
          "coloraxis": {
           "colorbar": {
            "outlinewidth": 0,
            "ticks": ""
           }
          },
          "colorscale": {
           "diverging": [
            [
             0,
             "#8e0152"
            ],
            [
             0.1,
             "#c51b7d"
            ],
            [
             0.2,
             "#de77ae"
            ],
            [
             0.3,
             "#f1b6da"
            ],
            [
             0.4,
             "#fde0ef"
            ],
            [
             0.5,
             "#f7f7f7"
            ],
            [
             0.6,
             "#e6f5d0"
            ],
            [
             0.7,
             "#b8e186"
            ],
            [
             0.8,
             "#7fbc41"
            ],
            [
             0.9,
             "#4d9221"
            ],
            [
             1,
             "#276419"
            ]
           ],
           "sequential": [
            [
             0,
             "#0d0887"
            ],
            [
             0.1111111111111111,
             "#46039f"
            ],
            [
             0.2222222222222222,
             "#7201a8"
            ],
            [
             0.3333333333333333,
             "#9c179e"
            ],
            [
             0.4444444444444444,
             "#bd3786"
            ],
            [
             0.5555555555555556,
             "#d8576b"
            ],
            [
             0.6666666666666666,
             "#ed7953"
            ],
            [
             0.7777777777777778,
             "#fb9f3a"
            ],
            [
             0.8888888888888888,
             "#fdca26"
            ],
            [
             1,
             "#f0f921"
            ]
           ],
           "sequentialminus": [
            [
             0,
             "#0d0887"
            ],
            [
             0.1111111111111111,
             "#46039f"
            ],
            [
             0.2222222222222222,
             "#7201a8"
            ],
            [
             0.3333333333333333,
             "#9c179e"
            ],
            [
             0.4444444444444444,
             "#bd3786"
            ],
            [
             0.5555555555555556,
             "#d8576b"
            ],
            [
             0.6666666666666666,
             "#ed7953"
            ],
            [
             0.7777777777777778,
             "#fb9f3a"
            ],
            [
             0.8888888888888888,
             "#fdca26"
            ],
            [
             1,
             "#f0f921"
            ]
           ]
          },
          "colorway": [
           "#636efa",
           "#EF553B",
           "#00cc96",
           "#ab63fa",
           "#FFA15A",
           "#19d3f3",
           "#FF6692",
           "#B6E880",
           "#FF97FF",
           "#FECB52"
          ],
          "font": {
           "color": "#2a3f5f"
          },
          "geo": {
           "bgcolor": "white",
           "lakecolor": "white",
           "landcolor": "#E5ECF6",
           "showlakes": true,
           "showland": true,
           "subunitcolor": "white"
          },
          "hoverlabel": {
           "align": "left"
          },
          "hovermode": "closest",
          "mapbox": {
           "style": "light"
          },
          "paper_bgcolor": "white",
          "plot_bgcolor": "#E5ECF6",
          "polar": {
           "angularaxis": {
            "gridcolor": "white",
            "linecolor": "white",
            "ticks": ""
           },
           "bgcolor": "#E5ECF6",
           "radialaxis": {
            "gridcolor": "white",
            "linecolor": "white",
            "ticks": ""
           }
          },
          "scene": {
           "xaxis": {
            "backgroundcolor": "#E5ECF6",
            "gridcolor": "white",
            "gridwidth": 2,
            "linecolor": "white",
            "showbackground": true,
            "ticks": "",
            "zerolinecolor": "white"
           },
           "yaxis": {
            "backgroundcolor": "#E5ECF6",
            "gridcolor": "white",
            "gridwidth": 2,
            "linecolor": "white",
            "showbackground": true,
            "ticks": "",
            "zerolinecolor": "white"
           },
           "zaxis": {
            "backgroundcolor": "#E5ECF6",
            "gridcolor": "white",
            "gridwidth": 2,
            "linecolor": "white",
            "showbackground": true,
            "ticks": "",
            "zerolinecolor": "white"
           }
          },
          "shapedefaults": {
           "line": {
            "color": "#2a3f5f"
           }
          },
          "ternary": {
           "aaxis": {
            "gridcolor": "white",
            "linecolor": "white",
            "ticks": ""
           },
           "baxis": {
            "gridcolor": "white",
            "linecolor": "white",
            "ticks": ""
           },
           "bgcolor": "#E5ECF6",
           "caxis": {
            "gridcolor": "white",
            "linecolor": "white",
            "ticks": ""
           }
          },
          "title": {
           "x": 0.05
          },
          "xaxis": {
           "automargin": true,
           "gridcolor": "white",
           "linecolor": "white",
           "ticks": "",
           "title": {
            "standoff": 15
           },
           "zerolinecolor": "white",
           "zerolinewidth": 2
          },
          "yaxis": {
           "automargin": true,
           "gridcolor": "white",
           "linecolor": "white",
           "ticks": "",
           "title": {
            "standoff": 15
           },
           "zerolinecolor": "white",
           "zerolinewidth": 2
          }
         }
        },
        "title": {
         "text": "电影评分分布 - 交互式箱线图"
        },
        "width": 800,
        "xaxis": {
         "anchor": "y",
         "domain": [
          0,
          1
         ]
        },
        "yaxis": {
         "anchor": "x",
         "domain": [
          0,
          1
         ],
         "title": {
          "text": "评分"
         }
        }
       }
      }
     },
     "metadata": {},
     "output_type": "display_data"
    },
    {
     "data": {
      "application/vnd.plotly.v1+json": {
       "config": {
        "plotlyServerURL": "https://plot.ly"
       },
       "data": [
        {
         "alignmentgroup": "True",
         "box": {
          "visible": true
         },
         "hovertemplate": "评分等级=经典(≥9.0)<br>评分=%{y}<extra></extra>",
         "legendgroup": "经典(≥9.0)",
         "marker": {
          "color": "#636efa"
         },
         "name": "经典(≥9.0)",
         "offsetgroup": "经典(≥9.0)",
         "orientation": "v",
         "scalegroup": "True",
         "showlegend": true,
         "type": "violin",
         "x0": " ",
         "xaxis": "x",
         "y": [
          9.7,
          9.6,
          9.5,
          9.5,
          9.4,
          9.5,
          9.4,
          9.4,
          9.4,
          9.4,
          9.5,
          9.4,
          9.3,
          9.2,
          9.2,
          9.3,
          9.3,
          9.3,
          9.6,
          9.2,
          9.3,
          9.3,
          9.3,
          9.1,
          9.1,
          9.3,
          9.2,
          9.2,
          9.1,
          9.3,
          9.2,
          9.3,
          9,
          9.3,
          9.1,
          9,
          9.1,
          9.3,
          9.4,
          9.3,
          9.1,
          9.2,
          9,
          9.3,
          9.1,
          9.3,
          9.2,
          9,
          9.2,
          9.1,
          9.1,
          9.4,
          9.1,
          9.1,
          9.1,
          9.3,
          9.1,
          9.2,
          9.2,
          9.2,
          9,
          9,
          9.1,
          9.2,
          9.2,
          9.1,
          9,
          9.1,
          9
         ],
         "y0": " ",
         "yaxis": "y"
        },
        {
         "alignmentgroup": "True",
         "box": {
          "visible": true
         },
         "hovertemplate": "评分等级=优秀(8.5-9.0)<br>评分=%{y}<extra></extra>",
         "legendgroup": "优秀(8.5-9.0)",
         "marker": {
          "color": "#EF553B"
         },
         "name": "优秀(8.5-9.0)",
         "offsetgroup": "优秀(8.5-9.0)",
         "orientation": "v",
         "scalegroup": "True",
         "showlegend": true,
         "type": "violin",
         "x0": " ",
         "xaxis": "x",
         "y": [
          8.9,
          8.9,
          8.9,
          8.9,
          8.8,
          8.8
         ],
         "y0": " ",
         "yaxis": "y"
        }
       ],
       "layout": {
        "height": 500,
        "legend": {
         "title": {
          "text": "评分等级"
         },
         "tracegroupgap": 0
        },
        "template": {
         "data": {
          "bar": [
           {
            "error_x": {
             "color": "#2a3f5f"
            },
            "error_y": {
             "color": "#2a3f5f"
            },
            "marker": {
             "line": {
              "color": "#E5ECF6",
              "width": 0.5
             },
             "pattern": {
              "fillmode": "overlay",
              "size": 10,
              "solidity": 0.2
             }
            },
            "type": "bar"
           }
          ],
          "barpolar": [
           {
            "marker": {
             "line": {
              "color": "#E5ECF6",
              "width": 0.5
             },
             "pattern": {
              "fillmode": "overlay",
              "size": 10,
              "solidity": 0.2
             }
            },
            "type": "barpolar"
           }
          ],
          "carpet": [
           {
            "aaxis": {
             "endlinecolor": "#2a3f5f",
             "gridcolor": "white",
             "linecolor": "white",
             "minorgridcolor": "white",
             "startlinecolor": "#2a3f5f"
            },
            "baxis": {
             "endlinecolor": "#2a3f5f",
             "gridcolor": "white",
             "linecolor": "white",
             "minorgridcolor": "white",
             "startlinecolor": "#2a3f5f"
            },
            "type": "carpet"
           }
          ],
          "choropleth": [
           {
            "colorbar": {
             "outlinewidth": 0,
             "ticks": ""
            },
            "type": "choropleth"
           }
          ],
          "contour": [
           {
            "colorbar": {
             "outlinewidth": 0,
             "ticks": ""
            },
            "colorscale": [
             [
              0,
              "#0d0887"
             ],
             [
              0.1111111111111111,
              "#46039f"
             ],
             [
              0.2222222222222222,
              "#7201a8"
             ],
             [
              0.3333333333333333,
              "#9c179e"
             ],
             [
              0.4444444444444444,
              "#bd3786"
             ],
             [
              0.5555555555555556,
              "#d8576b"
             ],
             [
              0.6666666666666666,
              "#ed7953"
             ],
             [
              0.7777777777777778,
              "#fb9f3a"
             ],
             [
              0.8888888888888888,
              "#fdca26"
             ],
             [
              1,
              "#f0f921"
             ]
            ],
            "type": "contour"
           }
          ],
          "contourcarpet": [
           {
            "colorbar": {
             "outlinewidth": 0,
             "ticks": ""
            },
            "type": "contourcarpet"
           }
          ],
          "heatmap": [
           {
            "colorbar": {
             "outlinewidth": 0,
             "ticks": ""
            },
            "colorscale": [
             [
              0,
              "#0d0887"
             ],
             [
              0.1111111111111111,
              "#46039f"
             ],
             [
              0.2222222222222222,
              "#7201a8"
             ],
             [
              0.3333333333333333,
              "#9c179e"
             ],
             [
              0.4444444444444444,
              "#bd3786"
             ],
             [
              0.5555555555555556,
              "#d8576b"
             ],
             [
              0.6666666666666666,
              "#ed7953"
             ],
             [
              0.7777777777777778,
              "#fb9f3a"
             ],
             [
              0.8888888888888888,
              "#fdca26"
             ],
             [
              1,
              "#f0f921"
             ]
            ],
            "type": "heatmap"
           }
          ],
          "heatmapgl": [
           {
            "colorbar": {
             "outlinewidth": 0,
             "ticks": ""
            },
            "colorscale": [
             [
              0,
              "#0d0887"
             ],
             [
              0.1111111111111111,
              "#46039f"
             ],
             [
              0.2222222222222222,
              "#7201a8"
             ],
             [
              0.3333333333333333,
              "#9c179e"
             ],
             [
              0.4444444444444444,
              "#bd3786"
             ],
             [
              0.5555555555555556,
              "#d8576b"
             ],
             [
              0.6666666666666666,
              "#ed7953"
             ],
             [
              0.7777777777777778,
              "#fb9f3a"
             ],
             [
              0.8888888888888888,
              "#fdca26"
             ],
             [
              1,
              "#f0f921"
             ]
            ],
            "type": "heatmapgl"
           }
          ],
          "histogram": [
           {
            "marker": {
             "pattern": {
              "fillmode": "overlay",
              "size": 10,
              "solidity": 0.2
             }
            },
            "type": "histogram"
           }
          ],
          "histogram2d": [
           {
            "colorbar": {
             "outlinewidth": 0,
             "ticks": ""
            },
            "colorscale": [
             [
              0,
              "#0d0887"
             ],
             [
              0.1111111111111111,
              "#46039f"
             ],
             [
              0.2222222222222222,
              "#7201a8"
             ],
             [
              0.3333333333333333,
              "#9c179e"
             ],
             [
              0.4444444444444444,
              "#bd3786"
             ],
             [
              0.5555555555555556,
              "#d8576b"
             ],
             [
              0.6666666666666666,
              "#ed7953"
             ],
             [
              0.7777777777777778,
              "#fb9f3a"
             ],
             [
              0.8888888888888888,
              "#fdca26"
             ],
             [
              1,
              "#f0f921"
             ]
            ],
            "type": "histogram2d"
           }
          ],
          "histogram2dcontour": [
           {
            "colorbar": {
             "outlinewidth": 0,
             "ticks": ""
            },
            "colorscale": [
             [
              0,
              "#0d0887"
             ],
             [
              0.1111111111111111,
              "#46039f"
             ],
             [
              0.2222222222222222,
              "#7201a8"
             ],
             [
              0.3333333333333333,
              "#9c179e"
             ],
             [
              0.4444444444444444,
              "#bd3786"
             ],
             [
              0.5555555555555556,
              "#d8576b"
             ],
             [
              0.6666666666666666,
              "#ed7953"
             ],
             [
              0.7777777777777778,
              "#fb9f3a"
             ],
             [
              0.8888888888888888,
              "#fdca26"
             ],
             [
              1,
              "#f0f921"
             ]
            ],
            "type": "histogram2dcontour"
           }
          ],
          "mesh3d": [
           {
            "colorbar": {
             "outlinewidth": 0,
             "ticks": ""
            },
            "type": "mesh3d"
           }
          ],
          "parcoords": [
           {
            "line": {
             "colorbar": {
              "outlinewidth": 0,
              "ticks": ""
             }
            },
            "type": "parcoords"
           }
          ],
          "pie": [
           {
            "automargin": true,
            "type": "pie"
           }
          ],
          "scatter": [
           {
            "fillpattern": {
             "fillmode": "overlay",
             "size": 10,
             "solidity": 0.2
            },
            "type": "scatter"
           }
          ],
          "scatter3d": [
           {
            "line": {
             "colorbar": {
              "outlinewidth": 0,
              "ticks": ""
             }
            },
            "marker": {
             "colorbar": {
              "outlinewidth": 0,
              "ticks": ""
             }
            },
            "type": "scatter3d"
           }
          ],
          "scattercarpet": [
           {
            "marker": {
             "colorbar": {
              "outlinewidth": 0,
              "ticks": ""
             }
            },
            "type": "scattercarpet"
           }
          ],
          "scattergeo": [
           {
            "marker": {
             "colorbar": {
              "outlinewidth": 0,
              "ticks": ""
             }
            },
            "type": "scattergeo"
           }
          ],
          "scattergl": [
           {
            "marker": {
             "colorbar": {
              "outlinewidth": 0,
              "ticks": ""
             }
            },
            "type": "scattergl"
           }
          ],
          "scattermapbox": [
           {
            "marker": {
             "colorbar": {
              "outlinewidth": 0,
              "ticks": ""
             }
            },
            "type": "scattermapbox"
           }
          ],
          "scatterpolar": [
           {
            "marker": {
             "colorbar": {
              "outlinewidth": 0,
              "ticks": ""
             }
            },
            "type": "scatterpolar"
           }
          ],
          "scatterpolargl": [
           {
            "marker": {
             "colorbar": {
              "outlinewidth": 0,
              "ticks": ""
             }
            },
            "type": "scatterpolargl"
           }
          ],
          "scatterternary": [
           {
            "marker": {
             "colorbar": {
              "outlinewidth": 0,
              "ticks": ""
             }
            },
            "type": "scatterternary"
           }
          ],
          "surface": [
           {
            "colorbar": {
             "outlinewidth": 0,
             "ticks": ""
            },
            "colorscale": [
             [
              0,
              "#0d0887"
             ],
             [
              0.1111111111111111,
              "#46039f"
             ],
             [
              0.2222222222222222,
              "#7201a8"
             ],
             [
              0.3333333333333333,
              "#9c179e"
             ],
             [
              0.4444444444444444,
              "#bd3786"
             ],
             [
              0.5555555555555556,
              "#d8576b"
             ],
             [
              0.6666666666666666,
              "#ed7953"
             ],
             [
              0.7777777777777778,
              "#fb9f3a"
             ],
             [
              0.8888888888888888,
              "#fdca26"
             ],
             [
              1,
              "#f0f921"
             ]
            ],
            "type": "surface"
           }
          ],
          "table": [
           {
            "cells": {
             "fill": {
              "color": "#EBF0F8"
             },
             "line": {
              "color": "white"
             }
            },
            "header": {
             "fill": {
              "color": "#C8D4E3"
             },
             "line": {
              "color": "white"
             }
            },
            "type": "table"
           }
          ]
         },
         "layout": {
          "annotationdefaults": {
           "arrowcolor": "#2a3f5f",
           "arrowhead": 0,
           "arrowwidth": 1
          },
          "autotypenumbers": "strict",
          "coloraxis": {
           "colorbar": {
            "outlinewidth": 0,
            "ticks": ""
           }
          },
          "colorscale": {
           "diverging": [
            [
             0,
             "#8e0152"
            ],
            [
             0.1,
             "#c51b7d"
            ],
            [
             0.2,
             "#de77ae"
            ],
            [
             0.3,
             "#f1b6da"
            ],
            [
             0.4,
             "#fde0ef"
            ],
            [
             0.5,
             "#f7f7f7"
            ],
            [
             0.6,
             "#e6f5d0"
            ],
            [
             0.7,
             "#b8e186"
            ],
            [
             0.8,
             "#7fbc41"
            ],
            [
             0.9,
             "#4d9221"
            ],
            [
             1,
             "#276419"
            ]
           ],
           "sequential": [
            [
             0,
             "#0d0887"
            ],
            [
             0.1111111111111111,
             "#46039f"
            ],
            [
             0.2222222222222222,
             "#7201a8"
            ],
            [
             0.3333333333333333,
             "#9c179e"
            ],
            [
             0.4444444444444444,
             "#bd3786"
            ],
            [
             0.5555555555555556,
             "#d8576b"
            ],
            [
             0.6666666666666666,
             "#ed7953"
            ],
            [
             0.7777777777777778,
             "#fb9f3a"
            ],
            [
             0.8888888888888888,
             "#fdca26"
            ],
            [
             1,
             "#f0f921"
            ]
           ],
           "sequentialminus": [
            [
             0,
             "#0d0887"
            ],
            [
             0.1111111111111111,
             "#46039f"
            ],
            [
             0.2222222222222222,
             "#7201a8"
            ],
            [
             0.3333333333333333,
             "#9c179e"
            ],
            [
             0.4444444444444444,
             "#bd3786"
            ],
            [
             0.5555555555555556,
             "#d8576b"
            ],
            [
             0.6666666666666666,
             "#ed7953"
            ],
            [
             0.7777777777777778,
             "#fb9f3a"
            ],
            [
             0.8888888888888888,
             "#fdca26"
            ],
            [
             1,
             "#f0f921"
            ]
           ]
          },
          "colorway": [
           "#636efa",
           "#EF553B",
           "#00cc96",
           "#ab63fa",
           "#FFA15A",
           "#19d3f3",
           "#FF6692",
           "#B6E880",
           "#FF97FF",
           "#FECB52"
          ],
          "font": {
           "color": "#2a3f5f"
          },
          "geo": {
           "bgcolor": "white",
           "lakecolor": "white",
           "landcolor": "#E5ECF6",
           "showlakes": true,
           "showland": true,
           "subunitcolor": "white"
          },
          "hoverlabel": {
           "align": "left"
          },
          "hovermode": "closest",
          "mapbox": {
           "style": "light"
          },
          "paper_bgcolor": "white",
          "plot_bgcolor": "#E5ECF6",
          "polar": {
           "angularaxis": {
            "gridcolor": "white",
            "linecolor": "white",
            "ticks": ""
           },
           "bgcolor": "#E5ECF6",
           "radialaxis": {
            "gridcolor": "white",
            "linecolor": "white",
            "ticks": ""
           }
          },
          "scene": {
           "xaxis": {
            "backgroundcolor": "#E5ECF6",
            "gridcolor": "white",
            "gridwidth": 2,
            "linecolor": "white",
            "showbackground": true,
            "ticks": "",
            "zerolinecolor": "white"
           },
           "yaxis": {
            "backgroundcolor": "#E5ECF6",
            "gridcolor": "white",
            "gridwidth": 2,
            "linecolor": "white",
            "showbackground": true,
            "ticks": "",
            "zerolinecolor": "white"
           },
           "zaxis": {
            "backgroundcolor": "#E5ECF6",
            "gridcolor": "white",
            "gridwidth": 2,
            "linecolor": "white",
            "showbackground": true,
            "ticks": "",
            "zerolinecolor": "white"
           }
          },
          "shapedefaults": {
           "line": {
            "color": "#2a3f5f"
           }
          },
          "ternary": {
           "aaxis": {
            "gridcolor": "white",
            "linecolor": "white",
            "ticks": ""
           },
           "baxis": {
            "gridcolor": "white",
            "linecolor": "white",
            "ticks": ""
           },
           "bgcolor": "#E5ECF6",
           "caxis": {
            "gridcolor": "white",
            "linecolor": "white",
            "ticks": ""
           }
          },
          "title": {
           "x": 0.05
          },
          "xaxis": {
           "automargin": true,
           "gridcolor": "white",
           "linecolor": "white",
           "ticks": "",
           "title": {
            "standoff": 15
           },
           "zerolinecolor": "white",
           "zerolinewidth": 2
          },
          "yaxis": {
           "automargin": true,
           "gridcolor": "white",
           "linecolor": "white",
           "ticks": "",
           "title": {
            "standoff": 15
           },
           "zerolinecolor": "white",
           "zerolinewidth": 2
          }
         }
        },
        "title": {
         "text": "不同评分等级的电影评分分布 - 交互式小提琴图"
        },
        "violinmode": "group",
        "width": 800,
        "xaxis": {
         "anchor": "y",
         "domain": [
          0,
          1
         ]
        },
        "yaxis": {
         "anchor": "x",
         "domain": [
          0,
          1
         ],
         "title": {
          "text": "评分"
         }
        }
       }
      }
     },
     "metadata": {},
     "output_type": "display_data"
    }
   ],
   "source": [
    "# 交互式图书数据可视化\n",
    "if not books_df.empty and '价格' in books_df.columns:\n",
    "    fig_book = px.box(books_df, y='价格', title='图书价格分布 - 交互式箱线图')\n",
    "    fig_book.update_layout(width=800, height=500)\n",
    "    fig_book.show()\n",
    "    \n",
    "    if '价格分组' in books_df.columns:\n",
    "        fig_book_violin = px.violin(books_df, y='价格', color='价格分组', \n",
    "                                   title='不同价格分组的图书价格分布 - 交互式小提琴图',\n",
    "                                   box=True)\n",
    "        fig_book_violin.update_layout(width=800, height=500)\n",
    "        fig_book_violin.show()\n",
    "\n",
    "# 交互式电影数据可视化\n",
    "if not movies_df.empty and '评分' in movies_df.columns:\n",
    "    fig_movie = px.box(movies_df, y='评分', title='电影评分分布 - 交互式箱线图')\n",
    "    fig_movie.update_layout(width=800, height=500)\n",
    "    fig_movie.show()\n",
    "    \n",
    "    if '评分等级' in movies_df.columns:\n",
    "        fig_movie_violin = px.violin(movies_df, y='评分', color='评分等级',\n",
    "                                    title='不同评分等级的电影评分分布 - 交互式小提琴图',\n",
    "                                    box=True)\n",
    "        fig_movie_violin.update_layout(width=800, height=500)\n",
    "        fig_movie_violin.show()"
   ]
  },
  {
   "cell_type": "markdown",
   "metadata": {},
   "source": [
    "### 4.5 综合数据分析"
   ]
  },
  {
   "cell_type": "code",
   "execution_count": 47,
   "metadata": {},
   "outputs": [
    {
     "name": "stdout",
     "output_type": "stream",
     "text": [
      "=== 综合数据分析报告 ===\n",
      "\n",
      "图书数据概况:\n",
      "- 爬取图书数量: 380 本\n",
      "- 价格范围: 2.20 - 398.00 元\n",
      "- 平均价格: 41.55 元\n",
      "- 排名范围: 1 - 380\n",
      "\n",
      "电影数据概况:\n",
      "- 爬取电影数量: 75 部\n",
      "- 评分范围: 8.8 - 9.7 分\n",
      "- 平均评分: 9.21 分\n",
      "- 排名范围: 1 - 75\n"
     ]
    }
   ],
   "source": [
    "# 数据概览\n",
    "print(\"=== 综合数据分析报告 ===\")\n",
    "print(f\"\\n图书数据概况:\")\n",
    "if not books_df.empty:\n",
    "    print(f\"- 爬取图书数量: {len(books_df)} 本\")\n",
    "    if '价格' in books_df.columns:\n",
    "        print(f\"- 价格范围: {books_df['价格'].min():.2f} - {books_df['价格'].max():.2f} 元\")\n",
    "        print(f\"- 平均价格: {books_df['价格'].mean():.2f} 元\")\n",
    "    if '排名' in books_df.columns:\n",
    "        print(f\"- 排名范围: {books_df['排名'].min()} - {books_df['排名'].max()}\")\n",
    "else:\n",
    "    print(\"- 图书数据爬取失败\")\n",
    "\n",
    "print(f\"\\n电影数据概况:\")\n",
    "if not movies_df.empty:\n",
    "    print(f\"- 爬取电影数量: {len(movies_df)} 部\")\n",
    "    if '评分' in movies_df.columns:\n",
    "        print(f\"- 评分范围: {movies_df['评分'].min():.1f} - {movies_df['评分'].max():.1f} 分\")\n",
    "        print(f\"- 平均评分: {movies_df['评分'].mean():.2f} 分\")\n",
    "    if '排名' in movies_df.columns:\n",
    "        print(f\"- 排名范围: {movies_df['排名'].min()} - {movies_df['排名'].max()}\")\n",
    "else:\n",
    "    print(\"- 电影数据爬取失败\")\n"
   ]
  }
 ],
 "metadata": {
  "kernelspec": {
   "display_name": "Python 3",
   "language": "python",
   "name": "python3"
  },
  "language_info": {
   "codemirror_mode": {
    "name": "ipython",
    "version": 3
   },
   "file_extension": ".py",
   "mimetype": "text/x-python",
   "name": "python",
   "nbconvert_exporter": "python",
   "pygments_lexer": "ipython3",
   "version": "3.12.7"
  }
 },
 "nbformat": 4,
 "nbformat_minor": 4
}
